{
 "cells": [
  {
   "cell_type": "code",
   "execution_count": 1,
   "id": "74da3df6",
   "metadata": {
    "execution": {
     "iopub.execute_input": "2024-03-02T19:58:25.840144Z",
     "iopub.status.busy": "2024-03-02T19:58:25.839835Z",
     "iopub.status.idle": "2024-03-02T19:58:26.540895Z",
     "shell.execute_reply": "2024-03-02T19:58:26.539969Z"
    },
    "executionInfo": {
     "elapsed": 567,
     "status": "ok",
     "timestamp": 1709052617561,
     "user": {
      "displayName": "Adham Elkomy",
      "userId": "05134505598862269623"
     },
     "user_tz": -120
    },
    "id": "e21224c2",
    "papermill": {
     "duration": 0.728475,
     "end_time": "2024-03-02T19:58:26.543330",
     "exception": false,
     "start_time": "2024-03-02T19:58:25.814855",
     "status": "completed"
    },
    "tags": []
   },
   "outputs": [],
   "source": [
    "import warnings\n",
    "warnings.filterwarnings('ignore')\n",
    "import pandas as pd\n",
    "import numpy as np"
   ]
  },
  {
   "cell_type": "code",
   "execution_count": 2,
   "id": "777af6da",
   "metadata": {
    "execution": {
     "iopub.execute_input": "2024-03-02T19:58:26.593168Z",
     "iopub.status.busy": "2024-03-02T19:58:26.592347Z",
     "iopub.status.idle": "2024-03-02T19:58:26.609581Z",
     "shell.execute_reply": "2024-03-02T19:58:26.608589Z"
    },
    "papermill": {
     "duration": 0.043294,
     "end_time": "2024-03-02T19:58:26.611544",
     "exception": false,
     "start_time": "2024-03-02T19:58:26.568250",
     "status": "completed"
    },
    "tags": []
   },
   "outputs": [
    {
     "name": "stdout",
     "output_type": "stream",
     "text": [
      "/kaggle/input/bank-customer-complaint-analysis/final_dataframe (1).csv\n",
      "/kaggle/input/bank-customer-complaint-analysis/complaints.csv\n",
      "/kaggle/input/bank-customer-complaint-analysis/Bank Customer Complaint Analysis for Efficient Dispute Resolution.ipynb\n",
      "/kaggle/input/bank-customer-complaint-analysis/complaints_report_20240226_183305.txt\n"
     ]
    }
   ],
   "source": [
    "import os\n",
    "for dirname, _, filenames in os.walk('/kaggle/input'):\n",
    "    for filename in filenames:\n",
    "        print(os.path.join(dirname, filename))"
   ]
  },
  {
   "cell_type": "code",
   "execution_count": 3,
   "id": "e2ece656",
   "metadata": {
    "execution": {
     "iopub.execute_input": "2024-03-02T19:58:26.660543Z",
     "iopub.status.busy": "2024-03-02T19:58:26.659918Z",
     "iopub.status.idle": "2024-03-02T19:58:28.429116Z",
     "shell.execute_reply": "2024-03-02T19:58:28.428147Z"
    },
    "executionInfo": {
     "elapsed": 661,
     "status": "ok",
     "timestamp": 1709052805698,
     "user": {
      "displayName": "Adham Elkomy",
      "userId": "05134505598862269623"
     },
     "user_tz": -120
    },
    "id": "e796d217",
    "outputId": "bc0270f5-0c75-421e-bcfb-5bbee9b3e976",
    "papermill": {
     "duration": 1.795514,
     "end_time": "2024-03-02T19:58:28.431324",
     "exception": false,
     "start_time": "2024-03-02T19:58:26.635810",
     "status": "completed"
    },
    "scrolled": true,
    "tags": []
   },
   "outputs": [
    {
     "data": {
      "text/html": [
       "<div>\n",
       "<style scoped>\n",
       "    .dataframe tbody tr th:only-of-type {\n",
       "        vertical-align: middle;\n",
       "    }\n",
       "\n",
       "    .dataframe tbody tr th {\n",
       "        vertical-align: top;\n",
       "    }\n",
       "\n",
       "    .dataframe thead th {\n",
       "        text-align: right;\n",
       "    }\n",
       "</style>\n",
       "<table border=\"1\" class=\"dataframe\">\n",
       "  <thead>\n",
       "    <tr style=\"text-align: right;\">\n",
       "      <th></th>\n",
       "      <th>Unnamed: 0</th>\n",
       "      <th>product</th>\n",
       "      <th>narrative</th>\n",
       "    </tr>\n",
       "  </thead>\n",
       "  <tbody>\n",
       "    <tr>\n",
       "      <th>0</th>\n",
       "      <td>0</td>\n",
       "      <td>credit_card</td>\n",
       "      <td>purchase order day shipping amount receive pro...</td>\n",
       "    </tr>\n",
       "    <tr>\n",
       "      <th>1</th>\n",
       "      <td>1</td>\n",
       "      <td>credit_card</td>\n",
       "      <td>forwarded message date tue subject please inve...</td>\n",
       "    </tr>\n",
       "    <tr>\n",
       "      <th>2</th>\n",
       "      <td>2</td>\n",
       "      <td>retail_banking</td>\n",
       "      <td>forwarded message cc sent friday pdt subject f...</td>\n",
       "    </tr>\n",
       "    <tr>\n",
       "      <th>3</th>\n",
       "      <td>3</td>\n",
       "      <td>credit_reporting</td>\n",
       "      <td>payment history missing credit report speciali...</td>\n",
       "    </tr>\n",
       "    <tr>\n",
       "      <th>4</th>\n",
       "      <td>4</td>\n",
       "      <td>credit_reporting</td>\n",
       "      <td>payment history missing credit report made mis...</td>\n",
       "    </tr>\n",
       "  </tbody>\n",
       "</table>\n",
       "</div>"
      ],
      "text/plain": [
       "   Unnamed: 0           product  \\\n",
       "0           0       credit_card   \n",
       "1           1       credit_card   \n",
       "2           2    retail_banking   \n",
       "3           3  credit_reporting   \n",
       "4           4  credit_reporting   \n",
       "\n",
       "                                           narrative  \n",
       "0  purchase order day shipping amount receive pro...  \n",
       "1  forwarded message date tue subject please inve...  \n",
       "2  forwarded message cc sent friday pdt subject f...  \n",
       "3  payment history missing credit report speciali...  \n",
       "4  payment history missing credit report made mis...  "
      ]
     },
     "execution_count": 3,
     "metadata": {},
     "output_type": "execute_result"
    }
   ],
   "source": [
    "df=pd.read_csv(\"/kaggle/input/bank-customer-complaint-analysis/complaints.csv\")\n",
    "df.head()"
   ]
  },
  {
   "cell_type": "markdown",
   "id": "f14514e6",
   "metadata": {
    "id": "29cf94d0",
    "papermill": {
     "duration": 0.023545,
     "end_time": "2024-03-02T19:58:28.479525",
     "exception": false,
     "start_time": "2024-03-02T19:58:28.455980",
     "status": "completed"
    },
    "tags": []
   },
   "source": [
    "## Data preprocessing"
   ]
  },
  {
   "cell_type": "code",
   "execution_count": 4,
   "id": "7aa0f2e8",
   "metadata": {
    "execution": {
     "iopub.execute_input": "2024-03-02T19:58:28.528118Z",
     "iopub.status.busy": "2024-03-02T19:58:28.527753Z",
     "iopub.status.idle": "2024-03-02T19:58:28.533089Z",
     "shell.execute_reply": "2024-03-02T19:58:28.532200Z"
    },
    "executionInfo": {
     "elapsed": 1,
     "status": "ok",
     "timestamp": 1709052807085,
     "user": {
      "displayName": "Adham Elkomy",
      "userId": "05134505598862269623"
     },
     "user_tz": -120
    },
    "id": "f02cc75c",
    "papermill": {
     "duration": 0.032251,
     "end_time": "2024-03-02T19:58:28.535392",
     "exception": false,
     "start_time": "2024-03-02T19:58:28.503141",
     "status": "completed"
    },
    "tags": []
   },
   "outputs": [],
   "source": [
    "df.rename(columns={'Unnamed: 0': 'Complaint_No'}, inplace=True)"
   ]
  },
  {
   "cell_type": "code",
   "execution_count": 5,
   "id": "cc77df98",
   "metadata": {
    "execution": {
     "iopub.execute_input": "2024-03-02T19:58:28.588654Z",
     "iopub.status.busy": "2024-03-02T19:58:28.588364Z",
     "iopub.status.idle": "2024-03-02T19:58:28.597139Z",
     "shell.execute_reply": "2024-03-02T19:58:28.596162Z"
    },
    "executionInfo": {
     "elapsed": 3,
     "status": "ok",
     "timestamp": 1709052808940,
     "user": {
      "displayName": "Adham Elkomy",
      "userId": "05134505598862269623"
     },
     "user_tz": -120
    },
    "id": "15631d12",
    "outputId": "f86a26a9-2f84-442b-eb58-b4ca9c81dc21",
    "papermill": {
     "duration": 0.035003,
     "end_time": "2024-03-02T19:58:28.599193",
     "exception": false,
     "start_time": "2024-03-02T19:58:28.564190",
     "status": "completed"
    },
    "scrolled": true,
    "tags": []
   },
   "outputs": [
    {
     "data": {
      "text/html": [
       "<div>\n",
       "<style scoped>\n",
       "    .dataframe tbody tr th:only-of-type {\n",
       "        vertical-align: middle;\n",
       "    }\n",
       "\n",
       "    .dataframe tbody tr th {\n",
       "        vertical-align: top;\n",
       "    }\n",
       "\n",
       "    .dataframe thead th {\n",
       "        text-align: right;\n",
       "    }\n",
       "</style>\n",
       "<table border=\"1\" class=\"dataframe\">\n",
       "  <thead>\n",
       "    <tr style=\"text-align: right;\">\n",
       "      <th></th>\n",
       "      <th>Complaint_No</th>\n",
       "      <th>product</th>\n",
       "      <th>narrative</th>\n",
       "    </tr>\n",
       "  </thead>\n",
       "  <tbody>\n",
       "    <tr>\n",
       "      <th>0</th>\n",
       "      <td>0</td>\n",
       "      <td>credit_card</td>\n",
       "      <td>purchase order day shipping amount receive pro...</td>\n",
       "    </tr>\n",
       "    <tr>\n",
       "      <th>1</th>\n",
       "      <td>1</td>\n",
       "      <td>credit_card</td>\n",
       "      <td>forwarded message date tue subject please inve...</td>\n",
       "    </tr>\n",
       "    <tr>\n",
       "      <th>2</th>\n",
       "      <td>2</td>\n",
       "      <td>retail_banking</td>\n",
       "      <td>forwarded message cc sent friday pdt subject f...</td>\n",
       "    </tr>\n",
       "    <tr>\n",
       "      <th>3</th>\n",
       "      <td>3</td>\n",
       "      <td>credit_reporting</td>\n",
       "      <td>payment history missing credit report speciali...</td>\n",
       "    </tr>\n",
       "    <tr>\n",
       "      <th>4</th>\n",
       "      <td>4</td>\n",
       "      <td>credit_reporting</td>\n",
       "      <td>payment history missing credit report made mis...</td>\n",
       "    </tr>\n",
       "  </tbody>\n",
       "</table>\n",
       "</div>"
      ],
      "text/plain": [
       "   Complaint_No           product  \\\n",
       "0             0       credit_card   \n",
       "1             1       credit_card   \n",
       "2             2    retail_banking   \n",
       "3             3  credit_reporting   \n",
       "4             4  credit_reporting   \n",
       "\n",
       "                                           narrative  \n",
       "0  purchase order day shipping amount receive pro...  \n",
       "1  forwarded message date tue subject please inve...  \n",
       "2  forwarded message cc sent friday pdt subject f...  \n",
       "3  payment history missing credit report speciali...  \n",
       "4  payment history missing credit report made mis...  "
      ]
     },
     "execution_count": 5,
     "metadata": {},
     "output_type": "execute_result"
    }
   ],
   "source": [
    "df.head()"
   ]
  },
  {
   "cell_type": "code",
   "execution_count": 6,
   "id": "a706ae03",
   "metadata": {
    "execution": {
     "iopub.execute_input": "2024-03-02T19:58:28.649644Z",
     "iopub.status.busy": "2024-03-02T19:58:28.648887Z",
     "iopub.status.idle": "2024-03-02T19:58:28.673443Z",
     "shell.execute_reply": "2024-03-02T19:58:28.672618Z"
    },
    "executionInfo": {
     "elapsed": 2,
     "status": "ok",
     "timestamp": 1709052811131,
     "user": {
      "displayName": "Adham Elkomy",
      "userId": "05134505598862269623"
     },
     "user_tz": -120
    },
    "id": "2ae12744",
    "outputId": "11e5ede0-b176-45f1-d00d-3189831a460c",
    "papermill": {
     "duration": 0.05201,
     "end_time": "2024-03-02T19:58:28.675618",
     "exception": false,
     "start_time": "2024-03-02T19:58:28.623608",
     "status": "completed"
    },
    "tags": []
   },
   "outputs": [
    {
     "data": {
      "text/plain": [
       "array(['credit_card', 'retail_banking', 'credit_reporting',\n",
       "       'mortgages_and_loans', 'debt_collection'], dtype=object)"
      ]
     },
     "execution_count": 6,
     "metadata": {},
     "output_type": "execute_result"
    }
   ],
   "source": [
    "unique=df[\"product\"].unique()\n",
    "unique"
   ]
  },
  {
   "cell_type": "code",
   "execution_count": 7,
   "id": "2848822c",
   "metadata": {
    "execution": {
     "iopub.execute_input": "2024-03-02T19:58:28.730400Z",
     "iopub.status.busy": "2024-03-02T19:58:28.730147Z",
     "iopub.status.idle": "2024-03-02T19:58:32.514840Z",
     "shell.execute_reply": "2024-03-02T19:58:32.513938Z"
    },
    "executionInfo": {
     "elapsed": 1270,
     "status": "ok",
     "timestamp": 1709052814567,
     "user": {
      "displayName": "Adham Elkomy",
      "userId": "05134505598862269623"
     },
     "user_tz": -120
    },
    "id": "N5ge9AzlWwqS",
    "outputId": "3069279a-0e16-4b0e-87ad-245588281e21",
    "papermill": {
     "duration": 3.813005,
     "end_time": "2024-03-02T19:58:32.517010",
     "exception": false,
     "start_time": "2024-03-02T19:58:28.704005",
     "status": "completed"
    },
    "tags": []
   },
   "outputs": [
    {
     "data": {
      "image/png": "[encoded data removed]",
      "text/plain": [
       "<Figure size 640x480 with 1 Axes>"
      ]
     },
     "metadata": {},
     "output_type": "display_data"
    },
    {
     "data": {
      "image/png": "[encoded data removed]",
      "text/plain": [
       "<Figure size 640x480 with 1 Axes>"
      ]
     },
     "metadata": {},
     "output_type": "display_data"
    }
   ],
   "source": [
    "import matplotlib.pyplot as plt\n",
    "import seaborn as sns\n",
    "\n",
    "sns.countplot(x='product', data=df)\n",
    "plt.title('Distribution of Complaints by Product')\n",
    "plt.xticks(rotation=45)  # Rotate x-axis labels for better visibility\n",
    "plt.show()\n",
    "\n",
    "# Histogram of narrative lengths, handling NaN values\n",
    "df['narrative_length'] = df['narrative'].apply(lambda x: len(str(x)) if pd.notnull(x) else 0)\n",
    "sns.histplot(df['narrative_length'])\n",
    "plt.title('Distribution of Narrative Lengths')\n",
    "plt.xticks(rotation=45)  # Rotate x-axis labels for better visibility\n",
    "plt.show()\n"
   ]
  },
  {
   "cell_type": "code",
   "execution_count": 8,
   "id": "767db92e",
   "metadata": {
    "execution": {
     "iopub.execute_input": "2024-03-02T19:58:32.567910Z",
     "iopub.status.busy": "2024-03-02T19:58:32.567494Z",
     "iopub.status.idle": "2024-03-02T19:58:32.604179Z",
     "shell.execute_reply": "2024-03-02T19:58:32.603376Z"
    },
    "executionInfo": {
     "elapsed": 681,
     "status": "ok",
     "timestamp": 1709052817109,
     "user": {
      "displayName": "Adham Elkomy",
      "userId": "05134505598862269623"
     },
     "user_tz": -120
    },
    "id": "5e5fb571",
    "outputId": "b6016e2f-7439-4b8b-af6a-a2498da2c932",
    "papermill": {
     "duration": 0.064015,
     "end_time": "2024-03-02T19:58:32.606068",
     "exception": false,
     "start_time": "2024-03-02T19:58:32.542053",
     "status": "completed"
    },
    "scrolled": true,
    "tags": []
   },
   "outputs": [
    {
     "data": {
      "text/html": [
       "<div>\n",
       "<style scoped>\n",
       "    .dataframe tbody tr th:only-of-type {\n",
       "        vertical-align: middle;\n",
       "    }\n",
       "\n",
       "    .dataframe tbody tr th {\n",
       "        vertical-align: top;\n",
       "    }\n",
       "\n",
       "    .dataframe thead th {\n",
       "        text-align: right;\n",
       "    }\n",
       "</style>\n",
       "<table border=\"1\" class=\"dataframe\">\n",
       "  <thead>\n",
       "    <tr style=\"text-align: right;\">\n",
       "      <th></th>\n",
       "      <th>Complaint_No</th>\n",
       "      <th>product</th>\n",
       "      <th>narrative</th>\n",
       "      <th>narrative_length</th>\n",
       "      <th>credit_card</th>\n",
       "      <th>credit_reporting</th>\n",
       "      <th>debt_collection</th>\n",
       "      <th>mortgages_and_loans</th>\n",
       "      <th>retail_banking</th>\n",
       "    </tr>\n",
       "  </thead>\n",
       "  <tbody>\n",
       "    <tr>\n",
       "      <th>0</th>\n",
       "      <td>0</td>\n",
       "      <td>credit_card</td>\n",
       "      <td>purchase order day shipping amount receive pro...</td>\n",
       "      <td>1705</td>\n",
       "      <td>True</td>\n",
       "      <td>False</td>\n",
       "      <td>False</td>\n",
       "      <td>False</td>\n",
       "      <td>False</td>\n",
       "    </tr>\n",
       "    <tr>\n",
       "      <th>1</th>\n",
       "      <td>1</td>\n",
       "      <td>credit_card</td>\n",
       "      <td>forwarded message date tue subject please inve...</td>\n",
       "      <td>904</td>\n",
       "      <td>True</td>\n",
       "      <td>False</td>\n",
       "      <td>False</td>\n",
       "      <td>False</td>\n",
       "      <td>False</td>\n",
       "    </tr>\n",
       "    <tr>\n",
       "      <th>2</th>\n",
       "      <td>2</td>\n",
       "      <td>retail_banking</td>\n",
       "      <td>forwarded message cc sent friday pdt subject f...</td>\n",
       "      <td>1230</td>\n",
       "      <td>False</td>\n",
       "      <td>False</td>\n",
       "      <td>False</td>\n",
       "      <td>False</td>\n",
       "      <td>True</td>\n",
       "    </tr>\n",
       "    <tr>\n",
       "      <th>3</th>\n",
       "      <td>3</td>\n",
       "      <td>credit_reporting</td>\n",
       "      <td>payment history missing credit report speciali...</td>\n",
       "      <td>903</td>\n",
       "      <td>False</td>\n",
       "      <td>True</td>\n",
       "      <td>False</td>\n",
       "      <td>False</td>\n",
       "      <td>False</td>\n",
       "    </tr>\n",
       "    <tr>\n",
       "      <th>4</th>\n",
       "      <td>4</td>\n",
       "      <td>credit_reporting</td>\n",
       "      <td>payment history missing credit report made mis...</td>\n",
       "      <td>851</td>\n",
       "      <td>False</td>\n",
       "      <td>True</td>\n",
       "      <td>False</td>\n",
       "      <td>False</td>\n",
       "      <td>False</td>\n",
       "    </tr>\n",
       "  </tbody>\n",
       "</table>\n",
       "</div>"
      ],
      "text/plain": [
       "   Complaint_No           product  \\\n",
       "0             0       credit_card   \n",
       "1             1       credit_card   \n",
       "2             2    retail_banking   \n",
       "3             3  credit_reporting   \n",
       "4             4  credit_reporting   \n",
       "\n",
       "                                           narrative  narrative_length  \\\n",
       "0  purchase order day shipping amount receive pro...              1705   \n",
       "1  forwarded message date tue subject please inve...               904   \n",
       "2  forwarded message cc sent friday pdt subject f...              1230   \n",
       "3  payment history missing credit report speciali...               903   \n",
       "4  payment history missing credit report made mis...               851   \n",
       "\n",
       "   credit_card  credit_reporting  debt_collection  mortgages_and_loans  \\\n",
       "0         True             False            False                False   \n",
       "1         True             False            False                False   \n",
       "2        False             False            False                False   \n",
       "3        False              True            False                False   \n",
       "4        False              True            False                False   \n",
       "\n",
       "   retail_banking  \n",
       "0           False  \n",
       "1           False  \n",
       "2            True  \n",
       "3           False  \n",
       "4           False  "
      ]
     },
     "execution_count": 8,
     "metadata": {},
     "output_type": "execute_result"
    }
   ],
   "source": [
    "df_encoded = pd.get_dummies(df['product'])\n",
    "df = pd.concat([df, df_encoded], axis=1)\n",
    "df.head()"
   ]
  },
  {
   "cell_type": "code",
   "execution_count": 9,
   "id": "0eda1021",
   "metadata": {
    "execution": {
     "iopub.execute_input": "2024-03-02T19:58:32.657900Z",
     "iopub.status.busy": "2024-03-02T19:58:32.657170Z",
     "iopub.status.idle": "2024-03-02T19:58:32.666323Z",
     "shell.execute_reply": "2024-03-02T19:58:32.665660Z"
    },
    "executionInfo": {
     "elapsed": 1,
     "status": "ok",
     "timestamp": 1709052819451,
     "user": {
      "displayName": "Adham Elkomy",
      "userId": "05134505598862269623"
     },
     "user_tz": -120
    },
    "id": "61d1e334",
    "papermill": {
     "duration": 0.036993,
     "end_time": "2024-03-02T19:58:32.668157",
     "exception": false,
     "start_time": "2024-03-02T19:58:32.631164",
     "status": "completed"
    },
    "tags": []
   },
   "outputs": [],
   "source": [
    "df = df.drop('product', axis=1)"
   ]
  },
  {
   "cell_type": "code",
   "execution_count": 10,
   "id": "e40b082c",
   "metadata": {
    "execution": {
     "iopub.execute_input": "2024-03-02T19:58:32.758593Z",
     "iopub.status.busy": "2024-03-02T19:58:32.757878Z",
     "iopub.status.idle": "2024-03-02T19:58:32.769882Z",
     "shell.execute_reply": "2024-03-02T19:58:32.769044Z"
    },
    "executionInfo": {
     "elapsed": 5,
     "status": "ok",
     "timestamp": 1709052820926,
     "user": {
      "displayName": "Adham Elkomy",
      "userId": "05134505598862269623"
     },
     "user_tz": -120
    },
    "id": "090ef45b",
    "outputId": "e0df41f9-8ffe-4473-f1dd-31648c552e6b",
    "papermill": {
     "duration": 0.078591,
     "end_time": "2024-03-02T19:58:32.772030",
     "exception": false,
     "start_time": "2024-03-02T19:58:32.693439",
     "status": "completed"
    },
    "scrolled": true,
    "tags": []
   },
   "outputs": [
    {
     "data": {
      "text/html": [
       "<div>\n",
       "<style scoped>\n",
       "    .dataframe tbody tr th:only-of-type {\n",
       "        vertical-align: middle;\n",
       "    }\n",
       "\n",
       "    .dataframe tbody tr th {\n",
       "        vertical-align: top;\n",
       "    }\n",
       "\n",
       "    .dataframe thead th {\n",
       "        text-align: right;\n",
       "    }\n",
       "</style>\n",
       "<table border=\"1\" class=\"dataframe\">\n",
       "  <thead>\n",
       "    <tr style=\"text-align: right;\">\n",
       "      <th></th>\n",
       "      <th>Complaint_No</th>\n",
       "      <th>narrative</th>\n",
       "      <th>narrative_length</th>\n",
       "      <th>credit_card</th>\n",
       "      <th>credit_reporting</th>\n",
       "      <th>debt_collection</th>\n",
       "      <th>mortgages_and_loans</th>\n",
       "      <th>retail_banking</th>\n",
       "    </tr>\n",
       "  </thead>\n",
       "  <tbody>\n",
       "    <tr>\n",
       "      <th>0</th>\n",
       "      <td>0</td>\n",
       "      <td>purchase order day shipping amount receive pro...</td>\n",
       "      <td>1705</td>\n",
       "      <td>True</td>\n",
       "      <td>False</td>\n",
       "      <td>False</td>\n",
       "      <td>False</td>\n",
       "      <td>False</td>\n",
       "    </tr>\n",
       "    <tr>\n",
       "      <th>1</th>\n",
       "      <td>1</td>\n",
       "      <td>forwarded message date tue subject please inve...</td>\n",
       "      <td>904</td>\n",
       "      <td>True</td>\n",
       "      <td>False</td>\n",
       "      <td>False</td>\n",
       "      <td>False</td>\n",
       "      <td>False</td>\n",
       "    </tr>\n",
       "    <tr>\n",
       "      <th>2</th>\n",
       "      <td>2</td>\n",
       "      <td>forwarded message cc sent friday pdt subject f...</td>\n",
       "      <td>1230</td>\n",
       "      <td>False</td>\n",
       "      <td>False</td>\n",
       "      <td>False</td>\n",
       "      <td>False</td>\n",
       "      <td>True</td>\n",
       "    </tr>\n",
       "    <tr>\n",
       "      <th>3</th>\n",
       "      <td>3</td>\n",
       "      <td>payment history missing credit report speciali...</td>\n",
       "      <td>903</td>\n",
       "      <td>False</td>\n",
       "      <td>True</td>\n",
       "      <td>False</td>\n",
       "      <td>False</td>\n",
       "      <td>False</td>\n",
       "    </tr>\n",
       "    <tr>\n",
       "      <th>4</th>\n",
       "      <td>4</td>\n",
       "      <td>payment history missing credit report made mis...</td>\n",
       "      <td>851</td>\n",
       "      <td>False</td>\n",
       "      <td>True</td>\n",
       "      <td>False</td>\n",
       "      <td>False</td>\n",
       "      <td>False</td>\n",
       "    </tr>\n",
       "  </tbody>\n",
       "</table>\n",
       "</div>"
      ],
      "text/plain": [
       "   Complaint_No                                          narrative  \\\n",
       "0             0  purchase order day shipping amount receive pro...   \n",
       "1             1  forwarded message date tue subject please inve...   \n",
       "2             2  forwarded message cc sent friday pdt subject f...   \n",
       "3             3  payment history missing credit report speciali...   \n",
       "4             4  payment history missing credit report made mis...   \n",
       "\n",
       "   narrative_length  credit_card  credit_reporting  debt_collection  \\\n",
       "0              1705         True             False            False   \n",
       "1               904         True             False            False   \n",
       "2              1230        False             False            False   \n",
       "3               903        False              True            False   \n",
       "4               851        False              True            False   \n",
       "\n",
       "   mortgages_and_loans  retail_banking  \n",
       "0                False           False  \n",
       "1                False           False  \n",
       "2                False            True  \n",
       "3                False           False  \n",
       "4                False           False  "
      ]
     },
     "execution_count": 10,
     "metadata": {},
     "output_type": "execute_result"
    }
   ],
   "source": [
    "df.head()"
   ]
  },
  {
   "cell_type": "code",
   "execution_count": 11,
   "id": "b22e01c6",
   "metadata": {
    "execution": {
     "iopub.execute_input": "2024-03-02T19:58:32.823890Z",
     "iopub.status.busy": "2024-03-02T19:58:32.823589Z",
     "iopub.status.idle": "2024-03-02T19:58:32.859273Z",
     "shell.execute_reply": "2024-03-02T19:58:32.858114Z"
    },
    "executionInfo": {
     "elapsed": 1,
     "status": "ok",
     "timestamp": 1709052654015,
     "user": {
      "displayName": "Adham Elkomy",
      "userId": "05134505598862269623"
     },
     "user_tz": -120
    },
    "id": "micXQyuQedXP",
    "outputId": "e88a769a-f9ae-4f92-dee9-40ab46c17102",
    "papermill": {
     "duration": 0.063498,
     "end_time": "2024-03-02T19:58:32.861200",
     "exception": false,
     "start_time": "2024-03-02T19:58:32.797702",
     "status": "completed"
    },
    "tags": []
   },
   "outputs": [
    {
     "name": "stdout",
     "output_type": "stream",
     "text": [
      "<class 'pandas.core.frame.DataFrame'>\n",
      "RangeIndex: 162421 entries, 0 to 162420\n",
      "Data columns (total 8 columns):\n",
      " #   Column               Non-Null Count   Dtype \n",
      "---  ------               --------------   ----- \n",
      " 0   Complaint_No         162421 non-null  int64 \n",
      " 1   narrative            162411 non-null  object\n",
      " 2   narrative_length     162421 non-null  int64 \n",
      " 3   credit_card          162421 non-null  bool  \n",
      " 4   credit_reporting     162421 non-null  bool  \n",
      " 5   debt_collection      162421 non-null  bool  \n",
      " 6   mortgages_and_loans  162421 non-null  bool  \n",
      " 7   retail_banking       162421 non-null  bool  \n",
      "dtypes: bool(5), int64(2), object(1)\n",
      "memory usage: 4.5+ MB\n"
     ]
    }
   ],
   "source": [
    "df.info()"
   ]
  },
  {
   "cell_type": "code",
   "execution_count": 12,
   "id": "303e10be",
   "metadata": {
    "execution": {
     "iopub.execute_input": "2024-03-02T19:58:32.912732Z",
     "iopub.status.busy": "2024-03-02T19:58:32.912467Z",
     "iopub.status.idle": "2024-03-02T19:58:32.940437Z",
     "shell.execute_reply": "2024-03-02T19:58:32.939537Z"
    },
    "executionInfo": {
     "elapsed": 536,
     "status": "ok",
     "timestamp": 1709052825741,
     "user": {
      "displayName": "Adham Elkomy",
      "userId": "05134505598862269623"
     },
     "user_tz": -120
    },
    "id": "66deb5dd",
    "outputId": "f67f3261-8d76-47ee-b621-6d463c644bbf",
    "papermill": {
     "duration": 0.055772,
     "end_time": "2024-03-02T19:58:32.942291",
     "exception": false,
     "start_time": "2024-03-02T19:58:32.886519",
     "status": "completed"
    },
    "scrolled": true,
    "tags": []
   },
   "outputs": [
    {
     "data": {
      "text/plain": [
       "Complaint_No            0\n",
       "narrative              10\n",
       "narrative_length        0\n",
       "credit_card             0\n",
       "credit_reporting        0\n",
       "debt_collection         0\n",
       "mortgages_and_loans     0\n",
       "retail_banking          0\n",
       "dtype: int64"
      ]
     },
     "execution_count": 12,
     "metadata": {},
     "output_type": "execute_result"
    }
   ],
   "source": [
    "df.isnull().sum()"
   ]
  },
  {
   "cell_type": "code",
   "execution_count": 13,
   "id": "2afa7966",
   "metadata": {
    "execution": {
     "iopub.execute_input": "2024-03-02T19:58:32.994123Z",
     "iopub.status.busy": "2024-03-02T19:58:32.993859Z",
     "iopub.status.idle": "2024-03-02T19:58:33.030128Z",
     "shell.execute_reply": "2024-03-02T19:58:33.029472Z"
    },
    "executionInfo": {
     "elapsed": 2,
     "status": "ok",
     "timestamp": 1709052828885,
     "user": {
      "displayName": "Adham Elkomy",
      "userId": "05134505598862269623"
     },
     "user_tz": -120
    },
    "id": "28b88cb0",
    "papermill": {
     "duration": 0.064096,
     "end_time": "2024-03-02T19:58:33.031951",
     "exception": false,
     "start_time": "2024-03-02T19:58:32.967855",
     "status": "completed"
    },
    "scrolled": true,
    "tags": []
   },
   "outputs": [],
   "source": [
    "df=df.dropna()"
   ]
  },
  {
   "cell_type": "code",
   "execution_count": 14,
   "id": "43402981",
   "metadata": {
    "execution": {
     "iopub.execute_input": "2024-03-02T19:58:33.085223Z",
     "iopub.status.busy": "2024-03-02T19:58:33.084950Z",
     "iopub.status.idle": "2024-03-02T19:58:33.109860Z",
     "shell.execute_reply": "2024-03-02T19:58:33.109039Z"
    },
    "executionInfo": {
     "elapsed": 2,
     "status": "ok",
     "timestamp": 1709052830952,
     "user": {
      "displayName": "Adham Elkomy",
      "userId": "05134505598862269623"
     },
     "user_tz": -120
    },
    "id": "798ed8d2",
    "outputId": "08d387e5-ec3d-4cf0-c787-5169f3b05186",
    "papermill": {
     "duration": 0.0529,
     "end_time": "2024-03-02T19:58:33.111692",
     "exception": false,
     "start_time": "2024-03-02T19:58:33.058792",
     "status": "completed"
    },
    "tags": []
   },
   "outputs": [
    {
     "data": {
      "text/plain": [
       "Complaint_No           0\n",
       "narrative              0\n",
       "narrative_length       0\n",
       "credit_card            0\n",
       "credit_reporting       0\n",
       "debt_collection        0\n",
       "mortgages_and_loans    0\n",
       "retail_banking         0\n",
       "dtype: int64"
      ]
     },
     "execution_count": 14,
     "metadata": {},
     "output_type": "execute_result"
    }
   ],
   "source": [
    "df.isnull().sum()"
   ]
  },
  {
   "cell_type": "code",
   "execution_count": 15,
   "id": "ba0e6857",
   "metadata": {
    "execution": {
     "iopub.execute_input": "2024-03-02T19:58:33.163458Z",
     "iopub.status.busy": "2024-03-02T19:58:33.163210Z",
     "iopub.status.idle": "2024-03-02T19:58:33.424461Z",
     "shell.execute_reply": "2024-03-02T19:58:33.423450Z"
    },
    "executionInfo": {
     "elapsed": 2,
     "status": "ok",
     "timestamp": 1709052833579,
     "user": {
      "displayName": "Adham Elkomy",
      "userId": "05134505598862269623"
     },
     "user_tz": -120
    },
    "id": "cec4ffa6",
    "outputId": "b4f28f32-ee99-4c8a-d78e-49eafcc875bd",
    "papermill": {
     "duration": 0.28978,
     "end_time": "2024-03-02T19:58:33.426880",
     "exception": false,
     "start_time": "2024-03-02T19:58:33.137100",
     "status": "completed"
    },
    "tags": []
   },
   "outputs": [
    {
     "data": {
      "text/plain": [
       "0"
      ]
     },
     "execution_count": 15,
     "metadata": {},
     "output_type": "execute_result"
    }
   ],
   "source": [
    "df.duplicated().sum()"
   ]
  },
  {
   "cell_type": "code",
   "execution_count": 16,
   "id": "5697f878",
   "metadata": {
    "execution": {
     "iopub.execute_input": "2024-03-02T19:58:33.490090Z",
     "iopub.status.busy": "2024-03-02T19:58:33.489748Z",
     "iopub.status.idle": "2024-03-02T19:58:34.662283Z",
     "shell.execute_reply": "2024-03-02T19:58:34.661317Z"
    },
    "executionInfo": {
     "elapsed": 1240,
     "status": "ok",
     "timestamp": 1709052853792,
     "user": {
      "displayName": "Adham Elkomy",
      "userId": "05134505598862269623"
     },
     "user_tz": -120
    },
    "id": "2c2c4bfd",
    "outputId": "c152facc-45b8-49c3-9c81-875fafb1b1aa",
    "papermill": {
     "duration": 1.206295,
     "end_time": "2024-03-02T19:58:34.664394",
     "exception": false,
     "start_time": "2024-03-02T19:58:33.458099",
     "status": "completed"
    },
    "scrolled": true,
    "tags": []
   },
   "outputs": [
    {
     "data": {
      "image/png": "[encoded data removed]",
      "text/plain": [
       "<Figure size 1500x400 with 5 Axes>"
      ]
     },
     "metadata": {},
     "output_type": "display_data"
    }
   ],
   "source": [
    "import matplotlib.pyplot as plt\n",
    "# Count occurrences of each value in each column\n",
    "counts_credit_card = df[\"credit_card\"].value_counts()\n",
    "counts_credit_reporting = df[\"credit_reporting\"].value_counts()\n",
    "counts_debt_collection = df[\"debt_collection\"].value_counts()\n",
    "counts_mortgages_and_loans = df[\"mortgages_and_loans\"].value_counts()\n",
    "counts_retail_banking = df[\"retail_banking\"].value_counts()\n",
    "\n",
    "# Plotting\n",
    "fig, axes = plt.subplots(nrows=1, ncols=5, figsize=(15, 4))\n",
    "\n",
    "# Plot for 'credit_card' column\n",
    "axes[0].bar(counts_credit_card.index, counts_credit_card.values)\n",
    "axes[0].set_title('Credit Card')\n",
    "\n",
    "# Plot for 'credit_reporting' column\n",
    "axes[1].bar(counts_credit_reporting.index, counts_credit_reporting.values)\n",
    "axes[1].set_title('Credit Reporting')\n",
    "\n",
    "# Plot for 'debt_collection' column\n",
    "axes[2].bar(counts_debt_collection.index, counts_debt_collection.values)\n",
    "axes[2].set_title('Debt Collection')\n",
    "\n",
    "# Plot for 'mortgages_and_loans' column\n",
    "axes[3].bar(counts_mortgages_and_loans.index, counts_mortgages_and_loans.values)\n",
    "axes[3].set_title('Mortgages and Loans')\n",
    "\n",
    "# Plot for 'retail_banking' column\n",
    "axes[4].bar(counts_retail_banking.index, counts_retail_banking.values)\n",
    "axes[4].set_title('Retail Banking')\n",
    "\n",
    "plt.tight_layout()\n",
    "plt.show()"
   ]
  },
  {
   "cell_type": "code",
   "execution_count": 17,
   "id": "603ab7c1",
   "metadata": {
    "execution": {
     "iopub.execute_input": "2024-03-02T19:58:34.721146Z",
     "iopub.status.busy": "2024-03-02T19:58:34.720395Z",
     "iopub.status.idle": "2024-03-02T19:58:36.027781Z",
     "shell.execute_reply": "2024-03-02T19:58:36.026705Z"
    },
    "executionInfo": {
     "elapsed": 1256,
     "status": "ok",
     "timestamp": 1709052850833,
     "user": {
      "displayName": "Adham Elkomy",
      "userId": "05134505598862269623"
     },
     "user_tz": -120
    },
    "id": "621f3963",
    "outputId": "37935864-ad26-4b01-d1f2-466efc3ba26f",
    "papermill": {
     "duration": 1.33814,
     "end_time": "2024-03-02T19:58:36.030583",
     "exception": false,
     "start_time": "2024-03-02T19:58:34.692443",
     "status": "completed"
    },
    "tags": []
   },
   "outputs": [
    {
     "data": {
      "image/png": "[encoded data removed]",
      "text/plain": [
       "<Figure size 1000x600 with 1 Axes>"
      ]
     },
     "metadata": {},
     "output_type": "display_data"
    }
   ],
   "source": [
    "import seaborn as sns\n",
    "import matplotlib.pyplot as plt\n",
    "\n",
    "df_melted = pd.melt(df, value_vars=[\"credit_card\", \"credit_reporting\", \"debt_collection\", \"mortgages_and_loans\", \"retail_banking\"])\n",
    "\n",
    "# Convert the melted values to \"True\" and \"False\"\n",
    "df_melted[\"value\"] = df_melted[\"value\"].astype(bool)\n",
    "\n",
    "# Create a countplot\n",
    "plt.figure(figsize=(10, 6))\n",
    "sns.set(style=\"whitegrid\")\n",
    "ax = sns.countplot(x=\"variable\", hue=\"value\", data=df_melted)\n",
    "\n",
    "# Add labels and title\n",
    "ax.set(xlabel=\"Categories\", ylabel=\"Count\", title=\"Count of True and False for Each Category\")\n",
    "plt.xticks(rotation=45)  # Rotate x-axis labels for better visibility\n",
    "plt.show()"
   ]
  },
  {
   "cell_type": "markdown",
   "id": "2e9effd3",
   "metadata": {
    "id": "498685b0",
    "papermill": {
     "duration": 0.029005,
     "end_time": "2024-03-02T19:58:36.091291",
     "exception": false,
     "start_time": "2024-03-02T19:58:36.062286",
     "status": "completed"
    },
    "tags": []
   },
   "source": [
    "### Text preperation"
   ]
  },
  {
   "cell_type": "markdown",
   "id": "423b7b08",
   "metadata": {
    "id": "1bc4d942",
    "papermill": {
     "duration": 0.028713,
     "end_time": "2024-03-02T19:58:36.148943",
     "exception": false,
     "start_time": "2024-03-02T19:58:36.120230",
     "status": "completed"
    },
    "tags": []
   },
   "source": [
    "## 1- lower case"
   ]
  },
  {
   "cell_type": "code",
   "execution_count": 18,
   "id": "b203add2",
   "metadata": {
    "execution": {
     "iopub.execute_input": "2024-03-02T19:58:36.205154Z",
     "iopub.status.busy": "2024-03-02T19:58:36.204415Z",
     "iopub.status.idle": "2024-03-02T19:58:36.354670Z",
     "shell.execute_reply": "2024-03-02T19:58:36.353793Z"
    },
    "executionInfo": {
     "elapsed": 625,
     "status": "ok",
     "timestamp": 1709053516051,
     "user": {
      "displayName": "Adham Elkomy",
      "userId": "05134505598862269623"
     },
     "user_tz": -120
    },
    "id": "27b5838c",
    "outputId": "9bacff94-f0d7-46e5-f678-19176f633178",
    "papermill": {
     "duration": 0.180461,
     "end_time": "2024-03-02T19:58:36.356762",
     "exception": false,
     "start_time": "2024-03-02T19:58:36.176301",
     "status": "completed"
    },
    "tags": []
   },
   "outputs": [
    {
     "data": {
      "text/html": [
       "<div>\n",
       "<style scoped>\n",
       "    .dataframe tbody tr th:only-of-type {\n",
       "        vertical-align: middle;\n",
       "    }\n",
       "\n",
       "    .dataframe tbody tr th {\n",
       "        vertical-align: top;\n",
       "    }\n",
       "\n",
       "    .dataframe thead th {\n",
       "        text-align: right;\n",
       "    }\n",
       "</style>\n",
       "<table border=\"1\" class=\"dataframe\">\n",
       "  <thead>\n",
       "    <tr style=\"text-align: right;\">\n",
       "      <th></th>\n",
       "      <th>Complaint_No</th>\n",
       "      <th>narrative</th>\n",
       "      <th>narrative_length</th>\n",
       "      <th>credit_card</th>\n",
       "      <th>credit_reporting</th>\n",
       "      <th>debt_collection</th>\n",
       "      <th>mortgages_and_loans</th>\n",
       "      <th>retail_banking</th>\n",
       "    </tr>\n",
       "  </thead>\n",
       "  <tbody>\n",
       "    <tr>\n",
       "      <th>0</th>\n",
       "      <td>0</td>\n",
       "      <td>purchase order day shipping amount receive pro...</td>\n",
       "      <td>1705</td>\n",
       "      <td>True</td>\n",
       "      <td>False</td>\n",
       "      <td>False</td>\n",
       "      <td>False</td>\n",
       "      <td>False</td>\n",
       "    </tr>\n",
       "    <tr>\n",
       "      <th>1</th>\n",
       "      <td>1</td>\n",
       "      <td>forwarded message date tue subject please inve...</td>\n",
       "      <td>904</td>\n",
       "      <td>True</td>\n",
       "      <td>False</td>\n",
       "      <td>False</td>\n",
       "      <td>False</td>\n",
       "      <td>False</td>\n",
       "    </tr>\n",
       "    <tr>\n",
       "      <th>2</th>\n",
       "      <td>2</td>\n",
       "      <td>forwarded message cc sent friday pdt subject f...</td>\n",
       "      <td>1230</td>\n",
       "      <td>False</td>\n",
       "      <td>False</td>\n",
       "      <td>False</td>\n",
       "      <td>False</td>\n",
       "      <td>True</td>\n",
       "    </tr>\n",
       "    <tr>\n",
       "      <th>3</th>\n",
       "      <td>3</td>\n",
       "      <td>payment history missing credit report speciali...</td>\n",
       "      <td>903</td>\n",
       "      <td>False</td>\n",
       "      <td>True</td>\n",
       "      <td>False</td>\n",
       "      <td>False</td>\n",
       "      <td>False</td>\n",
       "    </tr>\n",
       "    <tr>\n",
       "      <th>4</th>\n",
       "      <td>4</td>\n",
       "      <td>payment history missing credit report made mis...</td>\n",
       "      <td>851</td>\n",
       "      <td>False</td>\n",
       "      <td>True</td>\n",
       "      <td>False</td>\n",
       "      <td>False</td>\n",
       "      <td>False</td>\n",
       "    </tr>\n",
       "  </tbody>\n",
       "</table>\n",
       "</div>"
      ],
      "text/plain": [
       "   Complaint_No                                          narrative  \\\n",
       "0             0  purchase order day shipping amount receive pro...   \n",
       "1             1  forwarded message date tue subject please inve...   \n",
       "2             2  forwarded message cc sent friday pdt subject f...   \n",
       "3             3  payment history missing credit report speciali...   \n",
       "4             4  payment history missing credit report made mis...   \n",
       "\n",
       "   narrative_length  credit_card  credit_reporting  debt_collection  \\\n",
       "0              1705         True             False            False   \n",
       "1               904         True             False            False   \n",
       "2              1230        False             False            False   \n",
       "3               903        False              True            False   \n",
       "4               851        False              True            False   \n",
       "\n",
       "   mortgages_and_loans  retail_banking  \n",
       "0                False           False  \n",
       "1                False           False  \n",
       "2                False            True  \n",
       "3                False           False  \n",
       "4                False           False  "
      ]
     },
     "execution_count": 18,
     "metadata": {},
     "output_type": "execute_result"
    }
   ],
   "source": [
    "df[\"narrative\"]=df[\"narrative\"].str.lower()\n",
    "df.head()"
   ]
  },
  {
   "cell_type": "markdown",
   "id": "75314476",
   "metadata": {
    "id": "454a29ca",
    "papermill": {
     "duration": 0.027392,
     "end_time": "2024-03-02T19:58:36.412398",
     "exception": false,
     "start_time": "2024-03-02T19:58:36.385006",
     "status": "completed"
    },
    "tags": []
   },
   "source": [
    "## 2- remove html tags"
   ]
  },
  {
   "cell_type": "code",
   "execution_count": 19,
   "id": "a4516fcb",
   "metadata": {
    "execution": {
     "iopub.execute_input": "2024-03-02T19:58:36.468317Z",
     "iopub.status.busy": "2024-03-02T19:58:36.468037Z",
     "iopub.status.idle": "2024-03-02T19:58:49.403309Z",
     "shell.execute_reply": "2024-03-02T19:58:49.402192Z"
    },
    "executionInfo": {
     "elapsed": 6525,
     "status": "ok",
     "timestamp": 1709053527164,
     "user": {
      "displayName": "Adham Elkomy",
      "userId": "05134505598862269623"
     },
     "user_tz": -120
    },
    "id": "17d8dfbd",
    "outputId": "2e1bfcc5-55de-40c8-f1bf-30d673724f45",
    "papermill": {
     "duration": 12.966269,
     "end_time": "2024-03-02T19:58:49.406139",
     "exception": false,
     "start_time": "2024-03-02T19:58:36.439870",
     "status": "completed"
    },
    "tags": []
   },
   "outputs": [
    {
     "name": "stdout",
     "output_type": "stream",
     "text": [
      "Requirement already satisfied: beautifulsoup4 in /opt/conda/lib/python3.10/site-packages (4.12.2)\r\n",
      "Requirement already satisfied: soupsieve>1.2 in /opt/conda/lib/python3.10/site-packages (from beautifulsoup4) (2.5)\r\n"
     ]
    }
   ],
   "source": [
    "!pip install beautifulsoup4"
   ]
  },
  {
   "cell_type": "code",
   "execution_count": 20,
   "id": "f65daf8e",
   "metadata": {
    "execution": {
     "iopub.execute_input": "2024-03-02T19:58:49.464155Z",
     "iopub.status.busy": "2024-03-02T19:58:49.463818Z",
     "iopub.status.idle": "2024-03-02T19:59:00.360680Z",
     "shell.execute_reply": "2024-03-02T19:59:00.359685Z"
    },
    "executionInfo": {
     "elapsed": 1565,
     "status": "ok",
     "timestamp": 1709053530317,
     "user": {
      "displayName": "Adham Elkomy",
      "userId": "05134505598862269623"
     },
     "user_tz": -120
    },
    "id": "3add1a77",
    "papermill": {
     "duration": 10.928518,
     "end_time": "2024-03-02T19:59:00.363133",
     "exception": false,
     "start_time": "2024-03-02T19:58:49.434615",
     "status": "completed"
    },
    "tags": []
   },
   "outputs": [],
   "source": [
    "from bs4 import BeautifulSoup\n",
    "\n",
    "## check if there is html tags\n",
    "\n",
    "def has_html_tags(text):\n",
    "    soup = BeautifulSoup(text, 'html.parser')\n",
    "    return bool(soup.find())\n",
    "\n",
    "df['has_html_tags'] = df['narrative'].apply(has_html_tags)"
   ]
  },
  {
   "cell_type": "code",
   "execution_count": 21,
   "id": "a3b5159e",
   "metadata": {
    "execution": {
     "iopub.execute_input": "2024-03-02T19:59:00.421119Z",
     "iopub.status.busy": "2024-03-02T19:59:00.420448Z",
     "iopub.status.idle": "2024-03-02T19:59:00.434461Z",
     "shell.execute_reply": "2024-03-02T19:59:00.433648Z"
    },
    "executionInfo": {
     "elapsed": 1174,
     "status": "ok",
     "timestamp": 1709053593213,
     "user": {
      "displayName": "Adham Elkomy",
      "userId": "05134505598862269623"
     },
     "user_tz": -120
    },
    "id": "fefeb42f",
    "outputId": "b79dfbfb-5a8f-4146-d452-df15242958af",
    "papermill": {
     "duration": 0.044938,
     "end_time": "2024-03-02T19:59:00.436618",
     "exception": false,
     "start_time": "2024-03-02T19:59:00.391680",
     "status": "completed"
    },
    "tags": []
   },
   "outputs": [
    {
     "data": {
      "text/html": [
       "<div>\n",
       "<style scoped>\n",
       "    .dataframe tbody tr th:only-of-type {\n",
       "        vertical-align: middle;\n",
       "    }\n",
       "\n",
       "    .dataframe tbody tr th {\n",
       "        vertical-align: top;\n",
       "    }\n",
       "\n",
       "    .dataframe thead th {\n",
       "        text-align: right;\n",
       "    }\n",
       "</style>\n",
       "<table border=\"1\" class=\"dataframe\">\n",
       "  <thead>\n",
       "    <tr style=\"text-align: right;\">\n",
       "      <th></th>\n",
       "      <th>Complaint_No</th>\n",
       "      <th>narrative</th>\n",
       "      <th>narrative_length</th>\n",
       "      <th>credit_card</th>\n",
       "      <th>credit_reporting</th>\n",
       "      <th>debt_collection</th>\n",
       "      <th>mortgages_and_loans</th>\n",
       "      <th>retail_banking</th>\n",
       "      <th>has_html_tags</th>\n",
       "    </tr>\n",
       "  </thead>\n",
       "  <tbody>\n",
       "    <tr>\n",
       "      <th>0</th>\n",
       "      <td>0</td>\n",
       "      <td>purchase order day shipping amount receive pro...</td>\n",
       "      <td>1705</td>\n",
       "      <td>True</td>\n",
       "      <td>False</td>\n",
       "      <td>False</td>\n",
       "      <td>False</td>\n",
       "      <td>False</td>\n",
       "      <td>False</td>\n",
       "    </tr>\n",
       "    <tr>\n",
       "      <th>1</th>\n",
       "      <td>1</td>\n",
       "      <td>forwarded message date tue subject please inve...</td>\n",
       "      <td>904</td>\n",
       "      <td>True</td>\n",
       "      <td>False</td>\n",
       "      <td>False</td>\n",
       "      <td>False</td>\n",
       "      <td>False</td>\n",
       "      <td>False</td>\n",
       "    </tr>\n",
       "    <tr>\n",
       "      <th>2</th>\n",
       "      <td>2</td>\n",
       "      <td>forwarded message cc sent friday pdt subject f...</td>\n",
       "      <td>1230</td>\n",
       "      <td>False</td>\n",
       "      <td>False</td>\n",
       "      <td>False</td>\n",
       "      <td>False</td>\n",
       "      <td>True</td>\n",
       "      <td>False</td>\n",
       "    </tr>\n",
       "    <tr>\n",
       "      <th>3</th>\n",
       "      <td>3</td>\n",
       "      <td>payment history missing credit report speciali...</td>\n",
       "      <td>903</td>\n",
       "      <td>False</td>\n",
       "      <td>True</td>\n",
       "      <td>False</td>\n",
       "      <td>False</td>\n",
       "      <td>False</td>\n",
       "      <td>False</td>\n",
       "    </tr>\n",
       "    <tr>\n",
       "      <th>4</th>\n",
       "      <td>4</td>\n",
       "      <td>payment history missing credit report made mis...</td>\n",
       "      <td>851</td>\n",
       "      <td>False</td>\n",
       "      <td>True</td>\n",
       "      <td>False</td>\n",
       "      <td>False</td>\n",
       "      <td>False</td>\n",
       "      <td>False</td>\n",
       "    </tr>\n",
       "  </tbody>\n",
       "</table>\n",
       "</div>"
      ],
      "text/plain": [
       "   Complaint_No                                          narrative  \\\n",
       "0             0  purchase order day shipping amount receive pro...   \n",
       "1             1  forwarded message date tue subject please inve...   \n",
       "2             2  forwarded message cc sent friday pdt subject f...   \n",
       "3             3  payment history missing credit report speciali...   \n",
       "4             4  payment history missing credit report made mis...   \n",
       "\n",
       "   narrative_length  credit_card  credit_reporting  debt_collection  \\\n",
       "0              1705         True             False            False   \n",
       "1               904         True             False            False   \n",
       "2              1230        False             False            False   \n",
       "3               903        False              True            False   \n",
       "4               851        False              True            False   \n",
       "\n",
       "   mortgages_and_loans  retail_banking  has_html_tags  \n",
       "0                False           False          False  \n",
       "1                False           False          False  \n",
       "2                False            True          False  \n",
       "3                False           False          False  \n",
       "4                False           False          False  "
      ]
     },
     "execution_count": 21,
     "metadata": {},
     "output_type": "execute_result"
    }
   ],
   "source": [
    "df.head()"
   ]
  },
  {
   "cell_type": "code",
   "execution_count": 22,
   "id": "71827bb7",
   "metadata": {
    "execution": {
     "iopub.execute_input": "2024-03-02T19:59:00.496267Z",
     "iopub.status.busy": "2024-03-02T19:59:00.496018Z",
     "iopub.status.idle": "2024-03-02T19:59:00.502119Z",
     "shell.execute_reply": "2024-03-02T19:59:00.501248Z"
    },
    "executionInfo": {
     "elapsed": 2,
     "status": "ok",
     "timestamp": 1709053642516,
     "user": {
      "displayName": "Adham Elkomy",
      "userId": "05134505598862269623"
     },
     "user_tz": -120
    },
    "id": "1a296eb5",
    "outputId": "660bf073-908a-4910-e46e-6c306e8eca90",
    "papermill": {
     "duration": 0.038129,
     "end_time": "2024-03-02T19:59:00.503981",
     "exception": false,
     "start_time": "2024-03-02T19:59:00.465852",
     "status": "completed"
    },
    "tags": []
   },
   "outputs": [
    {
     "data": {
      "text/plain": [
       "0"
      ]
     },
     "execution_count": 22,
     "metadata": {},
     "output_type": "execute_result"
    }
   ],
   "source": [
    "count_true = df['has_html_tags'].sum()\n",
    "count_true"
   ]
  },
  {
   "cell_type": "code",
   "execution_count": 23,
   "id": "65c58e32",
   "metadata": {
    "execution": {
     "iopub.execute_input": "2024-03-02T19:59:00.561389Z",
     "iopub.status.busy": "2024-03-02T19:59:00.561117Z",
     "iopub.status.idle": "2024-03-02T19:59:00.583583Z",
     "shell.execute_reply": "2024-03-02T19:59:00.582664Z"
    },
    "executionInfo": {
     "elapsed": 3,
     "status": "ok",
     "timestamp": 1709053644530,
     "user": {
      "displayName": "Adham Elkomy",
      "userId": "05134505598862269623"
     },
     "user_tz": -120
    },
    "id": "b9737f66",
    "outputId": "7a66515a-1c8c-408d-dcd0-432673c0731f",
    "papermill": {
     "duration": 0.05298,
     "end_time": "2024-03-02T19:59:00.585561",
     "exception": false,
     "start_time": "2024-03-02T19:59:00.532581",
     "status": "completed"
    },
    "tags": []
   },
   "outputs": [
    {
     "data": {
      "text/html": [
       "<div>\n",
       "<style scoped>\n",
       "    .dataframe tbody tr th:only-of-type {\n",
       "        vertical-align: middle;\n",
       "    }\n",
       "\n",
       "    .dataframe tbody tr th {\n",
       "        vertical-align: top;\n",
       "    }\n",
       "\n",
       "    .dataframe thead th {\n",
       "        text-align: right;\n",
       "    }\n",
       "</style>\n",
       "<table border=\"1\" class=\"dataframe\">\n",
       "  <thead>\n",
       "    <tr style=\"text-align: right;\">\n",
       "      <th></th>\n",
       "      <th>Complaint_No</th>\n",
       "      <th>narrative</th>\n",
       "      <th>narrative_length</th>\n",
       "      <th>credit_card</th>\n",
       "      <th>credit_reporting</th>\n",
       "      <th>debt_collection</th>\n",
       "      <th>mortgages_and_loans</th>\n",
       "      <th>retail_banking</th>\n",
       "    </tr>\n",
       "  </thead>\n",
       "  <tbody>\n",
       "    <tr>\n",
       "      <th>0</th>\n",
       "      <td>0</td>\n",
       "      <td>purchase order day shipping amount receive pro...</td>\n",
       "      <td>1705</td>\n",
       "      <td>True</td>\n",
       "      <td>False</td>\n",
       "      <td>False</td>\n",
       "      <td>False</td>\n",
       "      <td>False</td>\n",
       "    </tr>\n",
       "    <tr>\n",
       "      <th>1</th>\n",
       "      <td>1</td>\n",
       "      <td>forwarded message date tue subject please inve...</td>\n",
       "      <td>904</td>\n",
       "      <td>True</td>\n",
       "      <td>False</td>\n",
       "      <td>False</td>\n",
       "      <td>False</td>\n",
       "      <td>False</td>\n",
       "    </tr>\n",
       "    <tr>\n",
       "      <th>2</th>\n",
       "      <td>2</td>\n",
       "      <td>forwarded message cc sent friday pdt subject f...</td>\n",
       "      <td>1230</td>\n",
       "      <td>False</td>\n",
       "      <td>False</td>\n",
       "      <td>False</td>\n",
       "      <td>False</td>\n",
       "      <td>True</td>\n",
       "    </tr>\n",
       "    <tr>\n",
       "      <th>3</th>\n",
       "      <td>3</td>\n",
       "      <td>payment history missing credit report speciali...</td>\n",
       "      <td>903</td>\n",
       "      <td>False</td>\n",
       "      <td>True</td>\n",
       "      <td>False</td>\n",
       "      <td>False</td>\n",
       "      <td>False</td>\n",
       "    </tr>\n",
       "    <tr>\n",
       "      <th>4</th>\n",
       "      <td>4</td>\n",
       "      <td>payment history missing credit report made mis...</td>\n",
       "      <td>851</td>\n",
       "      <td>False</td>\n",
       "      <td>True</td>\n",
       "      <td>False</td>\n",
       "      <td>False</td>\n",
       "      <td>False</td>\n",
       "    </tr>\n",
       "    <tr>\n",
       "      <th>...</th>\n",
       "      <td>...</td>\n",
       "      <td>...</td>\n",
       "      <td>...</td>\n",
       "      <td>...</td>\n",
       "      <td>...</td>\n",
       "      <td>...</td>\n",
       "      <td>...</td>\n",
       "      <td>...</td>\n",
       "    </tr>\n",
       "    <tr>\n",
       "      <th>162416</th>\n",
       "      <td>162416</td>\n",
       "      <td>name</td>\n",
       "      <td>4</td>\n",
       "      <td>False</td>\n",
       "      <td>False</td>\n",
       "      <td>True</td>\n",
       "      <td>False</td>\n",
       "      <td>False</td>\n",
       "    </tr>\n",
       "    <tr>\n",
       "      <th>162417</th>\n",
       "      <td>162417</td>\n",
       "      <td>name</td>\n",
       "      <td>4</td>\n",
       "      <td>True</td>\n",
       "      <td>False</td>\n",
       "      <td>False</td>\n",
       "      <td>False</td>\n",
       "      <td>False</td>\n",
       "    </tr>\n",
       "    <tr>\n",
       "      <th>162418</th>\n",
       "      <td>162418</td>\n",
       "      <td>name</td>\n",
       "      <td>4</td>\n",
       "      <td>False</td>\n",
       "      <td>False</td>\n",
       "      <td>True</td>\n",
       "      <td>False</td>\n",
       "      <td>False</td>\n",
       "    </tr>\n",
       "    <tr>\n",
       "      <th>162419</th>\n",
       "      <td>162419</td>\n",
       "      <td>name</td>\n",
       "      <td>4</td>\n",
       "      <td>True</td>\n",
       "      <td>False</td>\n",
       "      <td>False</td>\n",
       "      <td>False</td>\n",
       "      <td>False</td>\n",
       "    </tr>\n",
       "    <tr>\n",
       "      <th>162420</th>\n",
       "      <td>162420</td>\n",
       "      <td>name</td>\n",
       "      <td>4</td>\n",
       "      <td>False</td>\n",
       "      <td>True</td>\n",
       "      <td>False</td>\n",
       "      <td>False</td>\n",
       "      <td>False</td>\n",
       "    </tr>\n",
       "  </tbody>\n",
       "</table>\n",
       "<p>162411 rows × 8 columns</p>\n",
       "</div>"
      ],
      "text/plain": [
       "        Complaint_No                                          narrative  \\\n",
       "0                  0  purchase order day shipping amount receive pro...   \n",
       "1                  1  forwarded message date tue subject please inve...   \n",
       "2                  2  forwarded message cc sent friday pdt subject f...   \n",
       "3                  3  payment history missing credit report speciali...   \n",
       "4                  4  payment history missing credit report made mis...   \n",
       "...              ...                                                ...   \n",
       "162416        162416                                               name   \n",
       "162417        162417                                               name   \n",
       "162418        162418                                               name   \n",
       "162419        162419                                               name   \n",
       "162420        162420                                               name   \n",
       "\n",
       "        narrative_length  credit_card  credit_reporting  debt_collection  \\\n",
       "0                   1705         True             False            False   \n",
       "1                    904         True             False            False   \n",
       "2                   1230        False             False            False   \n",
       "3                    903        False              True            False   \n",
       "4                    851        False              True            False   \n",
       "...                  ...          ...               ...              ...   \n",
       "162416                 4        False             False             True   \n",
       "162417                 4         True             False            False   \n",
       "162418                 4        False             False             True   \n",
       "162419                 4         True             False            False   \n",
       "162420                 4        False              True            False   \n",
       "\n",
       "        mortgages_and_loans  retail_banking  \n",
       "0                     False           False  \n",
       "1                     False           False  \n",
       "2                     False            True  \n",
       "3                     False           False  \n",
       "4                     False           False  \n",
       "...                     ...             ...  \n",
       "162416                False           False  \n",
       "162417                False           False  \n",
       "162418                False           False  \n",
       "162419                False           False  \n",
       "162420                False           False  \n",
       "\n",
       "[162411 rows x 8 columns]"
      ]
     },
     "execution_count": 23,
     "metadata": {},
     "output_type": "execute_result"
    }
   ],
   "source": [
    "df = df.drop('has_html_tags', axis=1)\n",
    "df"
   ]
  },
  {
   "cell_type": "markdown",
   "id": "7ff54909",
   "metadata": {
    "id": "8f6eb898",
    "papermill": {
     "duration": 0.028392,
     "end_time": "2024-03-02T19:59:00.644107",
     "exception": false,
     "start_time": "2024-03-02T19:59:00.615715",
     "status": "completed"
    },
    "tags": []
   },
   "source": [
    "## 3- remove emojies"
   ]
  },
  {
   "cell_type": "code",
   "execution_count": 24,
   "id": "079b460f",
   "metadata": {
    "execution": {
     "iopub.execute_input": "2024-03-02T19:59:00.702221Z",
     "iopub.status.busy": "2024-03-02T19:59:00.701926Z",
     "iopub.status.idle": "2024-03-02T19:59:12.856987Z",
     "shell.execute_reply": "2024-03-02T19:59:12.855938Z"
    },
    "executionInfo": {
     "elapsed": 15575,
     "status": "ok",
     "timestamp": 1708966931028,
     "user": {
      "displayName": "Adham Elkomy",
      "userId": "05134505598862269623"
     },
     "user_tz": -120
    },
    "id": "405d7d6d",
    "outputId": "8b9432be-e69a-4e3e-d55c-4e3334f4db25",
    "papermill": {
     "duration": 12.187309,
     "end_time": "2024-03-02T19:59:12.859641",
     "exception": false,
     "start_time": "2024-03-02T19:59:00.672332",
     "status": "completed"
    },
    "scrolled": true,
    "tags": []
   },
   "outputs": [
    {
     "name": "stdout",
     "output_type": "stream",
     "text": [
      "Requirement already satisfied: emoji in /opt/conda/lib/python3.10/site-packages (2.10.1)\r\n"
     ]
    }
   ],
   "source": [
    "!pip install emoji"
   ]
  },
  {
   "cell_type": "code",
   "execution_count": 25,
   "id": "1468abf9",
   "metadata": {
    "execution": {
     "iopub.execute_input": "2024-03-02T19:59:12.925691Z",
     "iopub.status.busy": "2024-03-02T19:59:12.925302Z",
     "iopub.status.idle": "2024-03-02T19:59:25.457337Z",
     "shell.execute_reply": "2024-03-02T19:59:25.456182Z"
    },
    "executionInfo": {
     "elapsed": 10983,
     "status": "ok",
     "timestamp": 1708966945628,
     "user": {
      "displayName": "Adham Elkomy",
      "userId": "05134505598862269623"
     },
     "user_tz": -120
    },
    "id": "b555d1c6",
    "outputId": "9c7255f0-09d5-4a65-8001-39fd47d07554",
    "papermill": {
     "duration": 12.567248,
     "end_time": "2024-03-02T19:59:25.459794",
     "exception": false,
     "start_time": "2024-03-02T19:59:12.892546",
     "status": "completed"
    },
    "tags": []
   },
   "outputs": [
    {
     "name": "stdout",
     "output_type": "stream",
     "text": [
      "Requirement already satisfied: emoji in /opt/conda/lib/python3.10/site-packages (2.10.1)\r\n"
     ]
    }
   ],
   "source": [
    "!pip install --upgrade emoji"
   ]
  },
  {
   "cell_type": "code",
   "execution_count": 26,
   "id": "7513a963",
   "metadata": {
    "execution": {
     "iopub.execute_input": "2024-03-02T19:59:25.519260Z",
     "iopub.status.busy": "2024-03-02T19:59:25.518607Z",
     "iopub.status.idle": "2024-03-02T19:59:37.780955Z",
     "shell.execute_reply": "2024-03-02T19:59:37.779817Z"
    },
    "executionInfo": {
     "elapsed": 9874,
     "status": "ok",
     "timestamp": 1708966956669,
     "user": {
      "displayName": "Adham Elkomy",
      "userId": "05134505598862269623"
     },
     "user_tz": -120
    },
    "id": "dc09b47d",
    "outputId": "175e3fb1-b584-447b-faaa-7f3b0fe8f9cd",
    "papermill": {
     "duration": 12.294448,
     "end_time": "2024-03-02T19:59:37.783493",
     "exception": false,
     "start_time": "2024-03-02T19:59:25.489045",
     "status": "completed"
    },
    "tags": []
   },
   "outputs": [
    {
     "name": "stdout",
     "output_type": "stream",
     "text": [
      "Requirement already satisfied: regex in /opt/conda/lib/python3.10/site-packages (2023.12.25)\r\n"
     ]
    }
   ],
   "source": [
    "!pip install regex"
   ]
  },
  {
   "cell_type": "code",
   "execution_count": 27,
   "id": "13af586b",
   "metadata": {
    "execution": {
     "iopub.execute_input": "2024-03-02T19:59:37.844112Z",
     "iopub.status.busy": "2024-03-02T19:59:37.843489Z",
     "iopub.status.idle": "2024-03-02T19:59:40.202349Z",
     "shell.execute_reply": "2024-03-02T19:59:40.201378Z"
    },
    "executionInfo": {
     "elapsed": 484,
     "status": "ok",
     "timestamp": 1709053749812,
     "user": {
      "displayName": "Adham Elkomy",
      "userId": "05134505598862269623"
     },
     "user_tz": -120
    },
    "id": "9da7180b",
    "outputId": "7dd4a323-d063-4930-df78-723936f16d15",
    "papermill": {
     "duration": 2.391133,
     "end_time": "2024-03-02T19:59:40.204463",
     "exception": false,
     "start_time": "2024-03-02T19:59:37.813330",
     "status": "completed"
    },
    "tags": []
   },
   "outputs": [
    {
     "data": {
      "text/plain": [
       "0         False\n",
       "1         False\n",
       "2         False\n",
       "3         False\n",
       "4         False\n",
       "          ...  \n",
       "162416    False\n",
       "162417    False\n",
       "162418    False\n",
       "162419    False\n",
       "162420    False\n",
       "Name: narrative, Length: 162411, dtype: bool"
      ]
     },
     "execution_count": 27,
     "metadata": {},
     "output_type": "execute_result"
    }
   ],
   "source": [
    "import regex\n",
    "import pandas as pd\n",
    "\n",
    "# Function to check if a string contains emojis using a Unicode character property\n",
    "def has_emoji(text):\n",
    "    emoji_pattern = regex.compile(r'\\p{Emoji}', flags=regex.UNICODE)\n",
    "    return bool(emoji_pattern.search(text))\n",
    "\n",
    "\n",
    "has_emojis =  df['narrative'].apply(has_emoji)\n",
    "\n",
    "has_emojis"
   ]
  },
  {
   "cell_type": "code",
   "execution_count": 28,
   "id": "d9844089",
   "metadata": {
    "execution": {
     "iopub.execute_input": "2024-03-02T19:59:40.264356Z",
     "iopub.status.busy": "2024-03-02T19:59:40.264064Z",
     "iopub.status.idle": "2024-03-02T19:59:40.269987Z",
     "shell.execute_reply": "2024-03-02T19:59:40.269162Z"
    },
    "executionInfo": {
     "elapsed": 499,
     "status": "ok",
     "timestamp": 1709053752684,
     "user": {
      "displayName": "Adham Elkomy",
      "userId": "05134505598862269623"
     },
     "user_tz": -120
    },
    "id": "7bafb7b4",
    "outputId": "2eb05a73-e998-48d6-b236-3d5363a77a03",
    "papermill": {
     "duration": 0.037784,
     "end_time": "2024-03-02T19:59:40.271873",
     "exception": false,
     "start_time": "2024-03-02T19:59:40.234089",
     "status": "completed"
    },
    "tags": []
   },
   "outputs": [
    {
     "data": {
      "text/plain": [
       "0"
      ]
     },
     "execution_count": 28,
     "metadata": {},
     "output_type": "execute_result"
    }
   ],
   "source": [
    "has_emojis.sum()"
   ]
  },
  {
   "cell_type": "markdown",
   "id": "1fa9fc32",
   "metadata": {
    "id": "b71af6bc",
    "papermill": {
     "duration": 0.029187,
     "end_time": "2024-03-02T19:59:40.330861",
     "exception": false,
     "start_time": "2024-03-02T19:59:40.301674",
     "status": "completed"
    },
    "tags": []
   },
   "source": [
    "## 4- remove URLs"
   ]
  },
  {
   "cell_type": "code",
   "execution_count": 29,
   "id": "29deea89",
   "metadata": {
    "execution": {
     "iopub.execute_input": "2024-03-02T19:59:40.390390Z",
     "iopub.status.busy": "2024-03-02T19:59:40.390101Z",
     "iopub.status.idle": "2024-03-02T19:59:42.357781Z",
     "shell.execute_reply": "2024-03-02T19:59:42.356833Z"
    },
    "executionInfo": {
     "elapsed": 517,
     "status": "ok",
     "timestamp": 1709054436629,
     "user": {
      "displayName": "Adham Elkomy",
      "userId": "05134505598862269623"
     },
     "user_tz": -120
    },
    "id": "be02ef45",
    "outputId": "c47e8a32-8daf-4eb4-b310-32d70af4eb61",
    "papermill": {
     "duration": 2.000085,
     "end_time": "2024-03-02T19:59:42.360059",
     "exception": false,
     "start_time": "2024-03-02T19:59:40.359974",
     "status": "completed"
    },
    "tags": []
   },
   "outputs": [
    {
     "data": {
      "text/html": [
       "<div>\n",
       "<style scoped>\n",
       "    .dataframe tbody tr th:only-of-type {\n",
       "        vertical-align: middle;\n",
       "    }\n",
       "\n",
       "    .dataframe tbody tr th {\n",
       "        vertical-align: top;\n",
       "    }\n",
       "\n",
       "    .dataframe thead th {\n",
       "        text-align: right;\n",
       "    }\n",
       "</style>\n",
       "<table border=\"1\" class=\"dataframe\">\n",
       "  <thead>\n",
       "    <tr style=\"text-align: right;\">\n",
       "      <th></th>\n",
       "      <th>Complaint_No</th>\n",
       "      <th>narrative</th>\n",
       "      <th>narrative_length</th>\n",
       "      <th>credit_card</th>\n",
       "      <th>credit_reporting</th>\n",
       "      <th>debt_collection</th>\n",
       "      <th>mortgages_and_loans</th>\n",
       "      <th>retail_banking</th>\n",
       "    </tr>\n",
       "  </thead>\n",
       "  <tbody>\n",
       "    <tr>\n",
       "      <th>0</th>\n",
       "      <td>0</td>\n",
       "      <td>purchase order day shipping amount receive pro...</td>\n",
       "      <td>1705</td>\n",
       "      <td>True</td>\n",
       "      <td>False</td>\n",
       "      <td>False</td>\n",
       "      <td>False</td>\n",
       "      <td>False</td>\n",
       "    </tr>\n",
       "    <tr>\n",
       "      <th>1</th>\n",
       "      <td>1</td>\n",
       "      <td>forwarded message date tue subject please inve...</td>\n",
       "      <td>904</td>\n",
       "      <td>True</td>\n",
       "      <td>False</td>\n",
       "      <td>False</td>\n",
       "      <td>False</td>\n",
       "      <td>False</td>\n",
       "    </tr>\n",
       "    <tr>\n",
       "      <th>2</th>\n",
       "      <td>2</td>\n",
       "      <td>forwarded message cc sent friday pdt subject f...</td>\n",
       "      <td>1230</td>\n",
       "      <td>False</td>\n",
       "      <td>False</td>\n",
       "      <td>False</td>\n",
       "      <td>False</td>\n",
       "      <td>True</td>\n",
       "    </tr>\n",
       "    <tr>\n",
       "      <th>3</th>\n",
       "      <td>3</td>\n",
       "      <td>payment history missing credit report speciali...</td>\n",
       "      <td>903</td>\n",
       "      <td>False</td>\n",
       "      <td>True</td>\n",
       "      <td>False</td>\n",
       "      <td>False</td>\n",
       "      <td>False</td>\n",
       "    </tr>\n",
       "    <tr>\n",
       "      <th>4</th>\n",
       "      <td>4</td>\n",
       "      <td>payment history missing credit report made mis...</td>\n",
       "      <td>851</td>\n",
       "      <td>False</td>\n",
       "      <td>True</td>\n",
       "      <td>False</td>\n",
       "      <td>False</td>\n",
       "      <td>False</td>\n",
       "    </tr>\n",
       "  </tbody>\n",
       "</table>\n",
       "</div>"
      ],
      "text/plain": [
       "   Complaint_No                                          narrative  \\\n",
       "0             0  purchase order day shipping amount receive pro...   \n",
       "1             1  forwarded message date tue subject please inve...   \n",
       "2             2  forwarded message cc sent friday pdt subject f...   \n",
       "3             3  payment history missing credit report speciali...   \n",
       "4             4  payment history missing credit report made mis...   \n",
       "\n",
       "   narrative_length  credit_card  credit_reporting  debt_collection  \\\n",
       "0              1705         True             False            False   \n",
       "1               904         True             False            False   \n",
       "2              1230        False             False            False   \n",
       "3               903        False              True            False   \n",
       "4               851        False              True            False   \n",
       "\n",
       "   mortgages_and_loans  retail_banking  \n",
       "0                False           False  \n",
       "1                False           False  \n",
       "2                False            True  \n",
       "3                False           False  \n",
       "4                False           False  "
      ]
     },
     "execution_count": 29,
     "metadata": {},
     "output_type": "execute_result"
    }
   ],
   "source": [
    "import re\n",
    "def remove_url(text):\n",
    "    pattern=re.compile(r'https?://\\S+|www\\.S+')\n",
    "    return pattern.sub(r'',text)\n",
    "df[\"narrative\"]=df[\"narrative\"].apply(remove_url)\n",
    "\n",
    "df.head()"
   ]
  },
  {
   "cell_type": "markdown",
   "id": "bca8cbb9",
   "metadata": {
    "id": "bfe93ca1",
    "papermill": {
     "duration": 0.028897,
     "end_time": "2024-03-02T19:59:42.418793",
     "exception": false,
     "start_time": "2024-03-02T19:59:42.389896",
     "status": "completed"
    },
    "tags": []
   },
   "source": [
    "## 5- Remove puncatution"
   ]
  },
  {
   "cell_type": "code",
   "execution_count": 30,
   "id": "bde1cf00",
   "metadata": {
    "execution": {
     "iopub.execute_input": "2024-03-02T19:59:42.478962Z",
     "iopub.status.busy": "2024-03-02T19:59:42.478226Z",
     "iopub.status.idle": "2024-03-02T19:59:42.483921Z",
     "shell.execute_reply": "2024-03-02T19:59:42.482997Z"
    },
    "executionInfo": {
     "elapsed": 487,
     "status": "ok",
     "timestamp": 1709054439454,
     "user": {
      "displayName": "Adham Elkomy",
      "userId": "05134505598862269623"
     },
     "user_tz": -120
    },
    "id": "a4f69887",
    "outputId": "3ab54c26-3b7d-4ce2-a14f-7c763954740c",
    "papermill": {
     "duration": 0.038121,
     "end_time": "2024-03-02T19:59:42.485941",
     "exception": false,
     "start_time": "2024-03-02T19:59:42.447820",
     "status": "completed"
    },
    "tags": []
   },
   "outputs": [
    {
     "data": {
      "text/plain": [
       "'!\"#$%&\\'()*+,-./:;<=>?@[\\\\]^_`{|}~'"
      ]
     },
     "execution_count": 30,
     "metadata": {},
     "output_type": "execute_result"
    }
   ],
   "source": [
    "import string\n",
    "string.punctuation"
   ]
  },
  {
   "cell_type": "code",
   "execution_count": 31,
   "id": "e974e999",
   "metadata": {
    "execution": {
     "iopub.execute_input": "2024-03-02T19:59:42.545880Z",
     "iopub.status.busy": "2024-03-02T19:59:42.545568Z",
     "iopub.status.idle": "2024-03-02T19:59:42.549443Z",
     "shell.execute_reply": "2024-03-02T19:59:42.548608Z"
    },
    "executionInfo": {
     "elapsed": 1,
     "status": "ok",
     "timestamp": 1709054441108,
     "user": {
      "displayName": "Adham Elkomy",
      "userId": "05134505598862269623"
     },
     "user_tz": -120
    },
    "id": "01be839b",
    "papermill": {
     "duration": 0.036304,
     "end_time": "2024-03-02T19:59:42.551418",
     "exception": false,
     "start_time": "2024-03-02T19:59:42.515114",
     "status": "completed"
    },
    "tags": []
   },
   "outputs": [],
   "source": [
    "punc=string.punctuation"
   ]
  },
  {
   "cell_type": "code",
   "execution_count": 32,
   "id": "fdb4e943",
   "metadata": {
    "execution": {
     "iopub.execute_input": "2024-03-02T19:59:42.610953Z",
     "iopub.status.busy": "2024-03-02T19:59:42.610671Z",
     "iopub.status.idle": "2024-03-02T19:59:43.546621Z",
     "shell.execute_reply": "2024-03-02T19:59:43.545732Z"
    },
    "executionInfo": {
     "elapsed": 717,
     "status": "ok",
     "timestamp": 1709054443567,
     "user": {
      "displayName": "Adham Elkomy",
      "userId": "05134505598862269623"
     },
     "user_tz": -120
    },
    "id": "d1561c80",
    "outputId": "8e9c42eb-6fe8-46cc-ad3b-001920b9f58c",
    "papermill": {
     "duration": 0.968231,
     "end_time": "2024-03-02T19:59:43.548906",
     "exception": false,
     "start_time": "2024-03-02T19:59:42.580675",
     "status": "completed"
    },
    "tags": []
   },
   "outputs": [
    {
     "data": {
      "text/html": [
       "<div>\n",
       "<style scoped>\n",
       "    .dataframe tbody tr th:only-of-type {\n",
       "        vertical-align: middle;\n",
       "    }\n",
       "\n",
       "    .dataframe tbody tr th {\n",
       "        vertical-align: top;\n",
       "    }\n",
       "\n",
       "    .dataframe thead th {\n",
       "        text-align: right;\n",
       "    }\n",
       "</style>\n",
       "<table border=\"1\" class=\"dataframe\">\n",
       "  <thead>\n",
       "    <tr style=\"text-align: right;\">\n",
       "      <th></th>\n",
       "      <th>Complaint_No</th>\n",
       "      <th>narrative</th>\n",
       "      <th>narrative_length</th>\n",
       "      <th>credit_card</th>\n",
       "      <th>credit_reporting</th>\n",
       "      <th>debt_collection</th>\n",
       "      <th>mortgages_and_loans</th>\n",
       "      <th>retail_banking</th>\n",
       "    </tr>\n",
       "  </thead>\n",
       "  <tbody>\n",
       "    <tr>\n",
       "      <th>0</th>\n",
       "      <td>0</td>\n",
       "      <td>purchase order day shipping amount receive pro...</td>\n",
       "      <td>1705</td>\n",
       "      <td>True</td>\n",
       "      <td>False</td>\n",
       "      <td>False</td>\n",
       "      <td>False</td>\n",
       "      <td>False</td>\n",
       "    </tr>\n",
       "    <tr>\n",
       "      <th>1</th>\n",
       "      <td>1</td>\n",
       "      <td>forwarded message date tue subject please inve...</td>\n",
       "      <td>904</td>\n",
       "      <td>True</td>\n",
       "      <td>False</td>\n",
       "      <td>False</td>\n",
       "      <td>False</td>\n",
       "      <td>False</td>\n",
       "    </tr>\n",
       "    <tr>\n",
       "      <th>2</th>\n",
       "      <td>2</td>\n",
       "      <td>forwarded message cc sent friday pdt subject f...</td>\n",
       "      <td>1230</td>\n",
       "      <td>False</td>\n",
       "      <td>False</td>\n",
       "      <td>False</td>\n",
       "      <td>False</td>\n",
       "      <td>True</td>\n",
       "    </tr>\n",
       "    <tr>\n",
       "      <th>3</th>\n",
       "      <td>3</td>\n",
       "      <td>payment history missing credit report speciali...</td>\n",
       "      <td>903</td>\n",
       "      <td>False</td>\n",
       "      <td>True</td>\n",
       "      <td>False</td>\n",
       "      <td>False</td>\n",
       "      <td>False</td>\n",
       "    </tr>\n",
       "    <tr>\n",
       "      <th>4</th>\n",
       "      <td>4</td>\n",
       "      <td>payment history missing credit report made mis...</td>\n",
       "      <td>851</td>\n",
       "      <td>False</td>\n",
       "      <td>True</td>\n",
       "      <td>False</td>\n",
       "      <td>False</td>\n",
       "      <td>False</td>\n",
       "    </tr>\n",
       "  </tbody>\n",
       "</table>\n",
       "</div>"
      ],
      "text/plain": [
       "   Complaint_No                                          narrative  \\\n",
       "0             0  purchase order day shipping amount receive pro...   \n",
       "1             1  forwarded message date tue subject please inve...   \n",
       "2             2  forwarded message cc sent friday pdt subject f...   \n",
       "3             3  payment history missing credit report speciali...   \n",
       "4             4  payment history missing credit report made mis...   \n",
       "\n",
       "   narrative_length  credit_card  credit_reporting  debt_collection  \\\n",
       "0              1705         True             False            False   \n",
       "1               904         True             False            False   \n",
       "2              1230        False             False            False   \n",
       "3               903        False              True            False   \n",
       "4               851        False              True            False   \n",
       "\n",
       "   mortgages_and_loans  retail_banking  \n",
       "0                False           False  \n",
       "1                False           False  \n",
       "2                False            True  \n",
       "3                False           False  \n",
       "4                False           False  "
      ]
     },
     "execution_count": 32,
     "metadata": {},
     "output_type": "execute_result"
    }
   ],
   "source": [
    "def remove_punc(text):\n",
    "    return text.translate(str.maketrans('', '',punc))\n",
    "\n",
    "df[\"narrative\"]=df[\"narrative\"].apply(remove_punc)\n",
    "df.head()"
   ]
  },
  {
   "cell_type": "markdown",
   "id": "e7de7c34",
   "metadata": {
    "id": "a1e426ee",
    "papermill": {
     "duration": 0.030538,
     "end_time": "2024-03-02T19:59:43.610204",
     "exception": false,
     "start_time": "2024-03-02T19:59:43.579666",
     "status": "completed"
    },
    "tags": []
   },
   "source": [
    "## 6- remove stop words"
   ]
  },
  {
   "cell_type": "code",
   "execution_count": 33,
   "id": "fd6fae7f",
   "metadata": {
    "execution": {
     "iopub.execute_input": "2024-03-02T19:59:43.671367Z",
     "iopub.status.busy": "2024-03-02T19:59:43.670978Z",
     "iopub.status.idle": "2024-03-02T19:59:44.333815Z",
     "shell.execute_reply": "2024-03-02T19:59:44.333003Z"
    },
    "executionInfo": {
     "elapsed": 1,
     "status": "ok",
     "timestamp": 1709054446487,
     "user": {
      "displayName": "Adham Elkomy",
      "userId": "05134505598862269623"
     },
     "user_tz": -120
    },
    "id": "a2a4d866",
    "papermill": {
     "duration": 0.695788,
     "end_time": "2024-03-02T19:59:44.336025",
     "exception": false,
     "start_time": "2024-03-02T19:59:43.640237",
     "status": "completed"
    },
    "tags": []
   },
   "outputs": [],
   "source": [
    "from nltk.corpus import stopwords"
   ]
  },
  {
   "cell_type": "code",
   "execution_count": 34,
   "id": "200e6b32",
   "metadata": {
    "execution": {
     "iopub.execute_input": "2024-03-02T19:59:44.397568Z",
     "iopub.status.busy": "2024-03-02T19:59:44.397103Z",
     "iopub.status.idle": "2024-03-02T19:59:44.626931Z",
     "shell.execute_reply": "2024-03-02T19:59:44.625896Z"
    },
    "executionInfo": {
     "elapsed": 727,
     "status": "ok",
     "timestamp": 1709054448458,
     "user": {
      "displayName": "Adham Elkomy",
      "userId": "05134505598862269623"
     },
     "user_tz": -120
    },
    "id": "1ae05c25",
    "outputId": "6f3b0a3b-fa1d-46c2-8bdc-a4765f0cd876",
    "papermill": {
     "duration": 0.262989,
     "end_time": "2024-03-02T19:59:44.629121",
     "exception": false,
     "start_time": "2024-03-02T19:59:44.366132",
     "status": "completed"
    },
    "tags": []
   },
   "outputs": [
    {
     "name": "stdout",
     "output_type": "stream",
     "text": [
      "[nltk_data] Downloading package stopwords to /usr/share/nltk_data...\n",
      "[nltk_data]   Package stopwords is already up-to-date!\n"
     ]
    }
   ],
   "source": [
    "import nltk\n",
    "nltk.download('stopwords')\n",
    "stop_words=set(stopwords.words('english'))"
   ]
  },
  {
   "cell_type": "code",
   "execution_count": 35,
   "id": "f5d3c622",
   "metadata": {
    "execution": {
     "iopub.execute_input": "2024-03-02T19:59:44.691351Z",
     "iopub.status.busy": "2024-03-02T19:59:44.690744Z",
     "iopub.status.idle": "2024-03-02T19:59:47.633759Z",
     "shell.execute_reply": "2024-03-02T19:59:47.632671Z"
    },
    "executionInfo": {
     "elapsed": 520,
     "status": "ok",
     "timestamp": 1709054890957,
     "user": {
      "displayName": "Adham Elkomy",
      "userId": "05134505598862269623"
     },
     "user_tz": -120
    },
    "id": "7016305c",
    "outputId": "26835098-8e1f-406b-e672-35b3555cd9c3",
    "papermill": {
     "duration": 2.976326,
     "end_time": "2024-03-02T19:59:47.636084",
     "exception": false,
     "start_time": "2024-03-02T19:59:44.659758",
     "status": "completed"
    },
    "scrolled": true,
    "tags": []
   },
   "outputs": [
    {
     "data": {
      "text/html": [
       "<div>\n",
       "<style scoped>\n",
       "    .dataframe tbody tr th:only-of-type {\n",
       "        vertical-align: middle;\n",
       "    }\n",
       "\n",
       "    .dataframe tbody tr th {\n",
       "        vertical-align: top;\n",
       "    }\n",
       "\n",
       "    .dataframe thead th {\n",
       "        text-align: right;\n",
       "    }\n",
       "</style>\n",
       "<table border=\"1\" class=\"dataframe\">\n",
       "  <thead>\n",
       "    <tr style=\"text-align: right;\">\n",
       "      <th></th>\n",
       "      <th>Complaint_No</th>\n",
       "      <th>narrative</th>\n",
       "      <th>narrative_length</th>\n",
       "      <th>credit_card</th>\n",
       "      <th>credit_reporting</th>\n",
       "      <th>debt_collection</th>\n",
       "      <th>mortgages_and_loans</th>\n",
       "      <th>retail_banking</th>\n",
       "    </tr>\n",
       "  </thead>\n",
       "  <tbody>\n",
       "    <tr>\n",
       "      <th>0</th>\n",
       "      <td>0</td>\n",
       "      <td>purchase order day shipping amount receive pro...</td>\n",
       "      <td>1705</td>\n",
       "      <td>True</td>\n",
       "      <td>False</td>\n",
       "      <td>False</td>\n",
       "      <td>False</td>\n",
       "      <td>False</td>\n",
       "    </tr>\n",
       "    <tr>\n",
       "      <th>1</th>\n",
       "      <td>1</td>\n",
       "      <td>forwarded message date tue subject please inve...</td>\n",
       "      <td>904</td>\n",
       "      <td>True</td>\n",
       "      <td>False</td>\n",
       "      <td>False</td>\n",
       "      <td>False</td>\n",
       "      <td>False</td>\n",
       "    </tr>\n",
       "    <tr>\n",
       "      <th>2</th>\n",
       "      <td>2</td>\n",
       "      <td>forwarded message cc sent friday pdt subject f...</td>\n",
       "      <td>1230</td>\n",
       "      <td>False</td>\n",
       "      <td>False</td>\n",
       "      <td>False</td>\n",
       "      <td>False</td>\n",
       "      <td>True</td>\n",
       "    </tr>\n",
       "    <tr>\n",
       "      <th>3</th>\n",
       "      <td>3</td>\n",
       "      <td>payment history missing credit report speciali...</td>\n",
       "      <td>903</td>\n",
       "      <td>False</td>\n",
       "      <td>True</td>\n",
       "      <td>False</td>\n",
       "      <td>False</td>\n",
       "      <td>False</td>\n",
       "    </tr>\n",
       "    <tr>\n",
       "      <th>4</th>\n",
       "      <td>4</td>\n",
       "      <td>payment history missing credit report made mis...</td>\n",
       "      <td>851</td>\n",
       "      <td>False</td>\n",
       "      <td>True</td>\n",
       "      <td>False</td>\n",
       "      <td>False</td>\n",
       "      <td>False</td>\n",
       "    </tr>\n",
       "  </tbody>\n",
       "</table>\n",
       "</div>"
      ],
      "text/plain": [
       "   Complaint_No                                          narrative  \\\n",
       "0             0  purchase order day shipping amount receive pro...   \n",
       "1             1  forwarded message date tue subject please inve...   \n",
       "2             2  forwarded message cc sent friday pdt subject f...   \n",
       "3             3  payment history missing credit report speciali...   \n",
       "4             4  payment history missing credit report made mis...   \n",
       "\n",
       "   narrative_length  credit_card  credit_reporting  debt_collection  \\\n",
       "0              1705         True             False            False   \n",
       "1               904         True             False            False   \n",
       "2              1230        False             False            False   \n",
       "3               903        False              True            False   \n",
       "4               851        False              True            False   \n",
       "\n",
       "   mortgages_and_loans  retail_banking  \n",
       "0                False           False  \n",
       "1                False           False  \n",
       "2                False            True  \n",
       "3                False           False  \n",
       "4                False           False  "
      ]
     },
     "execution_count": 35,
     "metadata": {},
     "output_type": "execute_result"
    }
   ],
   "source": [
    "def remove_stopwords(text):\n",
    "    words = text.split()\n",
    "    filtered_words = [word for word in words if word not in stop_words]\n",
    "    return \" \".join(filtered_words)\n",
    "\n",
    "df[\"narrative\"]=df[\"narrative\"].apply(lambda x: remove_stopwords(x))\n",
    "\n",
    "df.head()"
   ]
  },
  {
   "cell_type": "code",
   "execution_count": 36,
   "id": "35ddd9ea",
   "metadata": {
    "execution": {
     "iopub.execute_input": "2024-03-02T19:59:47.703033Z",
     "iopub.status.busy": "2024-03-02T19:59:47.702188Z",
     "iopub.status.idle": "2024-03-02T19:59:47.716685Z",
     "shell.execute_reply": "2024-03-02T19:59:47.715838Z"
    },
    "executionInfo": {
     "elapsed": 4,
     "status": "ok",
     "timestamp": 1709054892697,
     "user": {
      "displayName": "Adham Elkomy",
      "userId": "05134505598862269623"
     },
     "user_tz": -120
    },
    "id": "655b6b80",
    "outputId": "49ad9e45-2fbb-4699-a531-3e1d283ac9ce",
    "papermill": {
     "duration": 0.048456,
     "end_time": "2024-03-02T19:59:47.718719",
     "exception": false,
     "start_time": "2024-03-02T19:59:47.670263",
     "status": "completed"
    },
    "scrolled": true,
    "tags": []
   },
   "outputs": [
    {
     "data": {
      "text/html": [
       "<div>\n",
       "<style scoped>\n",
       "    .dataframe tbody tr th:only-of-type {\n",
       "        vertical-align: middle;\n",
       "    }\n",
       "\n",
       "    .dataframe tbody tr th {\n",
       "        vertical-align: top;\n",
       "    }\n",
       "\n",
       "    .dataframe thead th {\n",
       "        text-align: right;\n",
       "    }\n",
       "</style>\n",
       "<table border=\"1\" class=\"dataframe\">\n",
       "  <thead>\n",
       "    <tr style=\"text-align: right;\">\n",
       "      <th></th>\n",
       "      <th>Complaint_No</th>\n",
       "      <th>narrative</th>\n",
       "      <th>narrative_length</th>\n",
       "      <th>credit_card</th>\n",
       "      <th>credit_reporting</th>\n",
       "      <th>debt_collection</th>\n",
       "      <th>mortgages_and_loans</th>\n",
       "      <th>retail_banking</th>\n",
       "    </tr>\n",
       "  </thead>\n",
       "  <tbody>\n",
       "    <tr>\n",
       "      <th>0</th>\n",
       "      <td>0</td>\n",
       "      <td>purchase order day shipping amount receive pro...</td>\n",
       "      <td>1705</td>\n",
       "      <td>True</td>\n",
       "      <td>False</td>\n",
       "      <td>False</td>\n",
       "      <td>False</td>\n",
       "      <td>False</td>\n",
       "    </tr>\n",
       "    <tr>\n",
       "      <th>1</th>\n",
       "      <td>1</td>\n",
       "      <td>forwarded message date tue subject please inve...</td>\n",
       "      <td>904</td>\n",
       "      <td>True</td>\n",
       "      <td>False</td>\n",
       "      <td>False</td>\n",
       "      <td>False</td>\n",
       "      <td>False</td>\n",
       "    </tr>\n",
       "    <tr>\n",
       "      <th>2</th>\n",
       "      <td>2</td>\n",
       "      <td>forwarded message cc sent friday pdt subject f...</td>\n",
       "      <td>1230</td>\n",
       "      <td>False</td>\n",
       "      <td>False</td>\n",
       "      <td>False</td>\n",
       "      <td>False</td>\n",
       "      <td>True</td>\n",
       "    </tr>\n",
       "    <tr>\n",
       "      <th>3</th>\n",
       "      <td>3</td>\n",
       "      <td>payment history missing credit report speciali...</td>\n",
       "      <td>903</td>\n",
       "      <td>False</td>\n",
       "      <td>True</td>\n",
       "      <td>False</td>\n",
       "      <td>False</td>\n",
       "      <td>False</td>\n",
       "    </tr>\n",
       "    <tr>\n",
       "      <th>4</th>\n",
       "      <td>4</td>\n",
       "      <td>payment history missing credit report made mis...</td>\n",
       "      <td>851</td>\n",
       "      <td>False</td>\n",
       "      <td>True</td>\n",
       "      <td>False</td>\n",
       "      <td>False</td>\n",
       "      <td>False</td>\n",
       "    </tr>\n",
       "    <tr>\n",
       "      <th>...</th>\n",
       "      <td>...</td>\n",
       "      <td>...</td>\n",
       "      <td>...</td>\n",
       "      <td>...</td>\n",
       "      <td>...</td>\n",
       "      <td>...</td>\n",
       "      <td>...</td>\n",
       "      <td>...</td>\n",
       "    </tr>\n",
       "    <tr>\n",
       "      <th>162416</th>\n",
       "      <td>162416</td>\n",
       "      <td>name</td>\n",
       "      <td>4</td>\n",
       "      <td>False</td>\n",
       "      <td>False</td>\n",
       "      <td>True</td>\n",
       "      <td>False</td>\n",
       "      <td>False</td>\n",
       "    </tr>\n",
       "    <tr>\n",
       "      <th>162417</th>\n",
       "      <td>162417</td>\n",
       "      <td>name</td>\n",
       "      <td>4</td>\n",
       "      <td>True</td>\n",
       "      <td>False</td>\n",
       "      <td>False</td>\n",
       "      <td>False</td>\n",
       "      <td>False</td>\n",
       "    </tr>\n",
       "    <tr>\n",
       "      <th>162418</th>\n",
       "      <td>162418</td>\n",
       "      <td>name</td>\n",
       "      <td>4</td>\n",
       "      <td>False</td>\n",
       "      <td>False</td>\n",
       "      <td>True</td>\n",
       "      <td>False</td>\n",
       "      <td>False</td>\n",
       "    </tr>\n",
       "    <tr>\n",
       "      <th>162419</th>\n",
       "      <td>162419</td>\n",
       "      <td>name</td>\n",
       "      <td>4</td>\n",
       "      <td>True</td>\n",
       "      <td>False</td>\n",
       "      <td>False</td>\n",
       "      <td>False</td>\n",
       "      <td>False</td>\n",
       "    </tr>\n",
       "    <tr>\n",
       "      <th>162420</th>\n",
       "      <td>162420</td>\n",
       "      <td>name</td>\n",
       "      <td>4</td>\n",
       "      <td>False</td>\n",
       "      <td>True</td>\n",
       "      <td>False</td>\n",
       "      <td>False</td>\n",
       "      <td>False</td>\n",
       "    </tr>\n",
       "  </tbody>\n",
       "</table>\n",
       "<p>162411 rows × 8 columns</p>\n",
       "</div>"
      ],
      "text/plain": [
       "        Complaint_No                                          narrative  \\\n",
       "0                  0  purchase order day shipping amount receive pro...   \n",
       "1                  1  forwarded message date tue subject please inve...   \n",
       "2                  2  forwarded message cc sent friday pdt subject f...   \n",
       "3                  3  payment history missing credit report speciali...   \n",
       "4                  4  payment history missing credit report made mis...   \n",
       "...              ...                                                ...   \n",
       "162416        162416                                               name   \n",
       "162417        162417                                               name   \n",
       "162418        162418                                               name   \n",
       "162419        162419                                               name   \n",
       "162420        162420                                               name   \n",
       "\n",
       "        narrative_length  credit_card  credit_reporting  debt_collection  \\\n",
       "0                   1705         True             False            False   \n",
       "1                    904         True             False            False   \n",
       "2                   1230        False             False            False   \n",
       "3                    903        False              True            False   \n",
       "4                    851        False              True            False   \n",
       "...                  ...          ...               ...              ...   \n",
       "162416                 4        False             False             True   \n",
       "162417                 4         True             False            False   \n",
       "162418                 4        False             False             True   \n",
       "162419                 4         True             False            False   \n",
       "162420                 4        False              True            False   \n",
       "\n",
       "        mortgages_and_loans  retail_banking  \n",
       "0                     False           False  \n",
       "1                     False           False  \n",
       "2                     False            True  \n",
       "3                     False           False  \n",
       "4                     False           False  \n",
       "...                     ...             ...  \n",
       "162416                False           False  \n",
       "162417                False           False  \n",
       "162418                False           False  \n",
       "162419                False           False  \n",
       "162420                False           False  \n",
       "\n",
       "[162411 rows x 8 columns]"
      ]
     },
     "execution_count": 36,
     "metadata": {},
     "output_type": "execute_result"
    }
   ],
   "source": [
    "df"
   ]
  },
  {
   "cell_type": "markdown",
   "id": "9a851145",
   "metadata": {
    "id": "3368fb68",
    "papermill": {
     "duration": 0.03011,
     "end_time": "2024-03-02T19:59:47.781428",
     "exception": false,
     "start_time": "2024-03-02T19:59:47.751318",
     "status": "completed"
    },
    "tags": []
   },
   "source": [
    "## 7- Tokenize"
   ]
  },
  {
   "cell_type": "code",
   "execution_count": 37,
   "id": "11fecaec",
   "metadata": {
    "execution": {
     "iopub.execute_input": "2024-03-02T19:59:47.843844Z",
     "iopub.status.busy": "2024-03-02T19:59:47.843540Z",
     "iopub.status.idle": "2024-03-02T20:02:28.985813Z",
     "shell.execute_reply": "2024-03-02T20:02:28.984935Z"
    },
    "executionInfo": {
     "elapsed": 14011,
     "status": "ok",
     "timestamp": 1709054911613,
     "user": {
      "displayName": "Adham Elkomy",
      "userId": "05134505598862269623"
     },
     "user_tz": -120
    },
    "id": "4d11424d",
    "outputId": "52f2630b-c806-429d-f48b-11cca89b3db4",
    "papermill": {
     "duration": 161.207188,
     "end_time": "2024-03-02T20:02:29.019322",
     "exception": false,
     "start_time": "2024-03-02T19:59:47.812134",
     "status": "completed"
    },
    "tags": []
   },
   "outputs": [
    {
     "name": "stdout",
     "output_type": "stream",
     "text": [
      "[nltk_data] Downloading package punkt to /usr/share/nltk_data...\n",
      "[nltk_data]   Package punkt is already up-to-date!\n"
     ]
    },
    {
     "data": {
      "text/html": [
       "<div>\n",
       "<style scoped>\n",
       "    .dataframe tbody tr th:only-of-type {\n",
       "        vertical-align: middle;\n",
       "    }\n",
       "\n",
       "    .dataframe tbody tr th {\n",
       "        vertical-align: top;\n",
       "    }\n",
       "\n",
       "    .dataframe thead th {\n",
       "        text-align: right;\n",
       "    }\n",
       "</style>\n",
       "<table border=\"1\" class=\"dataframe\">\n",
       "  <thead>\n",
       "    <tr style=\"text-align: right;\">\n",
       "      <th></th>\n",
       "      <th>Complaint_No</th>\n",
       "      <th>narrative</th>\n",
       "      <th>narrative_length</th>\n",
       "      <th>credit_card</th>\n",
       "      <th>credit_reporting</th>\n",
       "      <th>debt_collection</th>\n",
       "      <th>mortgages_and_loans</th>\n",
       "      <th>retail_banking</th>\n",
       "      <th>Complaint_tokenized_text</th>\n",
       "    </tr>\n",
       "  </thead>\n",
       "  <tbody>\n",
       "    <tr>\n",
       "      <th>0</th>\n",
       "      <td>0</td>\n",
       "      <td>purchase order day shipping amount receive pro...</td>\n",
       "      <td>1705</td>\n",
       "      <td>True</td>\n",
       "      <td>False</td>\n",
       "      <td>False</td>\n",
       "      <td>False</td>\n",
       "      <td>False</td>\n",
       "      <td>[[purchase, order, day, shipping, amount, rece...</td>\n",
       "    </tr>\n",
       "    <tr>\n",
       "      <th>1</th>\n",
       "      <td>1</td>\n",
       "      <td>forwarded message date tue subject please inve...</td>\n",
       "      <td>904</td>\n",
       "      <td>True</td>\n",
       "      <td>False</td>\n",
       "      <td>False</td>\n",
       "      <td>False</td>\n",
       "      <td>False</td>\n",
       "      <td>[[forwarded, message, date, tue, subject, plea...</td>\n",
       "    </tr>\n",
       "    <tr>\n",
       "      <th>2</th>\n",
       "      <td>2</td>\n",
       "      <td>forwarded message cc sent friday pdt subject f...</td>\n",
       "      <td>1230</td>\n",
       "      <td>False</td>\n",
       "      <td>False</td>\n",
       "      <td>False</td>\n",
       "      <td>False</td>\n",
       "      <td>True</td>\n",
       "      <td>[[forwarded, message, cc, sent, friday, pdt, s...</td>\n",
       "    </tr>\n",
       "    <tr>\n",
       "      <th>3</th>\n",
       "      <td>3</td>\n",
       "      <td>payment history missing credit report speciali...</td>\n",
       "      <td>903</td>\n",
       "      <td>False</td>\n",
       "      <td>True</td>\n",
       "      <td>False</td>\n",
       "      <td>False</td>\n",
       "      <td>False</td>\n",
       "      <td>[[payment, history, missing, credit, report, s...</td>\n",
       "    </tr>\n",
       "    <tr>\n",
       "      <th>4</th>\n",
       "      <td>4</td>\n",
       "      <td>payment history missing credit report made mis...</td>\n",
       "      <td>851</td>\n",
       "      <td>False</td>\n",
       "      <td>True</td>\n",
       "      <td>False</td>\n",
       "      <td>False</td>\n",
       "      <td>False</td>\n",
       "      <td>[[payment, history, missing, credit, report, m...</td>\n",
       "    </tr>\n",
       "  </tbody>\n",
       "</table>\n",
       "</div>"
      ],
      "text/plain": [
       "   Complaint_No                                          narrative  \\\n",
       "0             0  purchase order day shipping amount receive pro...   \n",
       "1             1  forwarded message date tue subject please inve...   \n",
       "2             2  forwarded message cc sent friday pdt subject f...   \n",
       "3             3  payment history missing credit report speciali...   \n",
       "4             4  payment history missing credit report made mis...   \n",
       "\n",
       "   narrative_length  credit_card  credit_reporting  debt_collection  \\\n",
       "0              1705         True             False            False   \n",
       "1               904         True             False            False   \n",
       "2              1230        False             False            False   \n",
       "3               903        False              True            False   \n",
       "4               851        False              True            False   \n",
       "\n",
       "   mortgages_and_loans  retail_banking  \\\n",
       "0                False           False   \n",
       "1                False           False   \n",
       "2                False            True   \n",
       "3                False           False   \n",
       "4                False           False   \n",
       "\n",
       "                            Complaint_tokenized_text  \n",
       "0  [[purchase, order, day, shipping, amount, rece...  \n",
       "1  [[forwarded, message, date, tue, subject, plea...  \n",
       "2  [[forwarded, message, cc, sent, friday, pdt, s...  \n",
       "3  [[payment, history, missing, credit, report, s...  \n",
       "4  [[payment, history, missing, credit, report, m...  "
      ]
     },
     "execution_count": 37,
     "metadata": {},
     "output_type": "execute_result"
    }
   ],
   "source": [
    "import nltk\n",
    "nltk.download('punkt')\n",
    "from nltk import word_tokenize, sent_tokenize\n",
    "\n",
    "# Function to apply sentence and word tokenization\n",
    "def tokenize_text(text):\n",
    "    sentences = sent_tokenize(text)\n",
    "    words = [word_tokenize(sentence) for sentence in sentences]\n",
    "    return words\n",
    "\n",
    "df['Complaint_tokenized_text'] = df['narrative'].apply(tokenize_text)\n",
    "\n",
    "df.head()"
   ]
  },
  {
   "cell_type": "code",
   "execution_count": 38,
   "id": "c20dac24",
   "metadata": {
    "execution": {
     "iopub.execute_input": "2024-03-02T20:02:29.081643Z",
     "iopub.status.busy": "2024-03-02T20:02:29.081354Z",
     "iopub.status.idle": "2024-03-02T20:02:29.096044Z",
     "shell.execute_reply": "2024-03-02T20:02:29.095192Z"
    },
    "executionInfo": {
     "elapsed": 406,
     "status": "ok",
     "timestamp": 1708967070594,
     "user": {
      "displayName": "Adham Elkomy",
      "userId": "05134505598862269623"
     },
     "user_tz": -120
    },
    "id": "21601f0b",
    "outputId": "7ff15059-156a-4355-cdf0-111e3e341d1d",
    "papermill": {
     "duration": 0.047889,
     "end_time": "2024-03-02T20:02:29.097847",
     "exception": false,
     "start_time": "2024-03-02T20:02:29.049958",
     "status": "completed"
    },
    "tags": []
   },
   "outputs": [
    {
     "data": {
      "text/plain": [
       "['purchase',\n",
       " 'order',\n",
       " 'day',\n",
       " 'shipping',\n",
       " 'amount',\n",
       " 'receive',\n",
       " 'product',\n",
       " 'week',\n",
       " 'sent',\n",
       " 'followup',\n",
       " 'email',\n",
       " 'exact',\n",
       " 'verbiage',\n",
       " 'paid',\n",
       " 'two',\n",
       " 'day',\n",
       " 'shipping',\n",
       " 'received',\n",
       " 'order',\n",
       " 'company',\n",
       " 'responded',\n",
       " 'im',\n",
       " 'sorry',\n",
       " 'inform',\n",
       " 'due',\n",
       " 'unusually',\n",
       " 'high',\n",
       " 'order',\n",
       " 'volume',\n",
       " 'order',\n",
       " 'shipped',\n",
       " 'several',\n",
       " 'week',\n",
       " 'stock',\n",
       " 'since',\n",
       " 'early',\n",
       " 'due',\n",
       " 'high',\n",
       " 'demand',\n",
       " 'although',\n",
       " 'continuing',\n",
       " 'take',\n",
       " 'order',\n",
       " 'guaranteeing',\n",
       " 'receive',\n",
       " 'order',\n",
       " 'place',\n",
       " 'due',\n",
       " 'time',\n",
       " 'mask',\n",
       " 'order',\n",
       " 'exact',\n",
       " 'shipping',\n",
       " 'date',\n",
       " 'right',\n",
       " 'however',\n",
       " 'guarantee',\n",
       " 'ship',\n",
       " 'soon',\n",
       " 'soon',\n",
       " 'delivers',\n",
       " 'product',\n",
       " 'u',\n",
       " 'getting',\n",
       " 'small',\n",
       " 'shipment',\n",
       " 'shipping',\n",
       " 'first',\n",
       " 'come',\n",
       " 'first',\n",
       " 'served',\n",
       " 'basis',\n",
       " 'appreciate',\n",
       " 'patience',\n",
       " 'fulfill',\n",
       " 'order',\n",
       " 'quickly',\n",
       " 'recommend',\n",
       " 'keeping',\n",
       " 'order',\n",
       " 'lose',\n",
       " 'place',\n",
       " 'line',\n",
       " 'cancel',\n",
       " 'distributor',\n",
       " 'stock',\n",
       " 'moment',\n",
       " 'prefer',\n",
       " 'cancel',\n",
       " 'please',\n",
       " 'note',\n",
       " 'ask',\n",
       " 'via',\n",
       " 'email',\n",
       " 'cancel',\n",
       " 'accordance',\n",
       " 'cancellation',\n",
       " 'policy',\n",
       " 'agreed',\n",
       " 'checkout',\n",
       " 'electronic',\n",
       " 'inventory',\n",
       " 'online',\n",
       " 'requested',\n",
       " 'order',\n",
       " 'canceled',\n",
       " 'refund',\n",
       " 'issued',\n",
       " 'canceled',\n",
       " 'order',\n",
       " 'sent',\n",
       " 'verification',\n",
       " 'order',\n",
       " 'canceled',\n",
       " 'refunded',\n",
       " 'item',\n",
       " 'particulate',\n",
       " 'respirator',\n",
       " 'refunded',\n",
       " 'subtotal',\n",
       " 'shipping',\n",
       " 'tax',\n",
       " 'total',\n",
       " 'usd',\n",
       " 'visa',\n",
       " 'ending',\n",
       " 'refund',\n",
       " 'called',\n",
       " 'disputed',\n",
       " 'amount',\n",
       " 'stated',\n",
       " 'nothing',\n",
       " 'needed',\n",
       " 'submitted',\n",
       " 'address',\n",
       " 'issue',\n",
       " 'recharged',\n",
       " 'item',\n",
       " 'removing',\n",
       " 'called',\n",
       " 'back',\n",
       " 'dispute',\n",
       " 'amount',\n",
       " 'transaction',\n",
       " 'rebillmerchandiserobert',\n",
       " 'ca',\n",
       " 'purchased',\n",
       " 'thu',\n",
       " 'posted',\n",
       " 'wed',\n",
       " 'purchased',\n",
       " 'appears',\n",
       " 'statement',\n",
       " 'transaction',\n",
       " 'rebill',\n",
       " 'ca',\n",
       " 'u',\n",
       " 'followed',\n",
       " 'see',\n",
       " 'status',\n",
       " 'case',\n",
       " 'submitted',\n",
       " 'documentation',\n",
       " 'showing',\n",
       " 'canceled',\n",
       " 'order',\n",
       " 'supposed',\n",
       " 'submit',\n",
       " 'refund',\n",
       " 'called',\n",
       " 'back',\n",
       " 'speak',\n",
       " 'manager',\n",
       " 'case',\n",
       " 'stated',\n",
       " 'dispute',\n",
       " 'ruled',\n",
       " 'favor',\n",
       " 'charge',\n",
       " 'removed',\n",
       " 'card',\n",
       " 'capital',\n",
       " 'one',\n",
       " 'removed',\n",
       " 'purchase',\n",
       " 'bill',\n",
       " 'purchase',\n",
       " 'adjustmentmerchandiserobert',\n",
       " 'j',\n",
       " 'posted',\n",
       " 'fri',\n",
       " 'purchased',\n",
       " 'appears',\n",
       " 'statement',\n",
       " 'purchase',\n",
       " 'adjustment',\n",
       " 'capital',\n",
       " 'one',\n",
       " 'recharges',\n",
       " 'amount',\n",
       " 'transaction',\n",
       " 'rebillmerchandiserobert',\n",
       " 'j',\n",
       " 'purchased',\n",
       " 'thu',\n",
       " 'posted',\n",
       " 'mon',\n",
       " 'purchased',\n",
       " 'appears',\n",
       " 'statement',\n",
       " 'transaction',\n",
       " 'rebill',\n",
       " 'called',\n",
       " 'capital',\n",
       " 'one',\n",
       " 'requested',\n",
       " 'recharge',\n",
       " 'stated',\n",
       " 'visa',\n",
       " 'ruled',\n",
       " 'case',\n",
       " 'pretended',\n",
       " 'remove',\n",
       " 'purchase',\n",
       " 'knew',\n",
       " 'anything',\n",
       " 'case',\n",
       " 'manager',\n",
       " 'ruling',\n",
       " 'favor']"
      ]
     },
     "execution_count": 38,
     "metadata": {},
     "output_type": "execute_result"
    }
   ],
   "source": [
    "df[\"Complaint_tokenized_text\"][0][0]"
   ]
  },
  {
   "cell_type": "markdown",
   "id": "673325f6",
   "metadata": {
    "id": "aa3c444b",
    "papermill": {
     "duration": 0.030466,
     "end_time": "2024-03-02T20:02:29.158988",
     "exception": false,
     "start_time": "2024-03-02T20:02:29.128522",
     "status": "completed"
    },
    "tags": []
   },
   "source": [
    "### split data"
   ]
  },
  {
   "cell_type": "code",
   "execution_count": 39,
   "id": "9c99160f",
   "metadata": {
    "execution": {
     "iopub.execute_input": "2024-03-02T20:02:29.221300Z",
     "iopub.status.busy": "2024-03-02T20:02:29.221050Z",
     "iopub.status.idle": "2024-03-02T20:02:29.281038Z",
     "shell.execute_reply": "2024-03-02T20:02:29.280017Z"
    },
    "executionInfo": {
     "elapsed": 301,
     "status": "ok",
     "timestamp": 1708967075011,
     "user": {
      "displayName": "Adham Elkomy",
      "userId": "05134505598862269623"
     },
     "user_tz": -120
    },
    "id": "b2e2b228",
    "outputId": "aa0349ce-3094-4bdc-d73b-05c2a2efe13d",
    "papermill": {
     "duration": 0.093452,
     "end_time": "2024-03-02T20:02:29.283020",
     "exception": false,
     "start_time": "2024-03-02T20:02:29.189568",
     "status": "completed"
    },
    "tags": []
   },
   "outputs": [
    {
     "name": "stdout",
     "output_type": "stream",
     "text": [
      "<class 'pandas.core.frame.DataFrame'>\n",
      "Index: 162411 entries, 0 to 162420\n",
      "Data columns (total 9 columns):\n",
      " #   Column                    Non-Null Count   Dtype \n",
      "---  ------                    --------------   ----- \n",
      " 0   Complaint_No              162411 non-null  int64 \n",
      " 1   narrative                 162411 non-null  object\n",
      " 2   narrative_length          162411 non-null  int64 \n",
      " 3   credit_card               162411 non-null  bool  \n",
      " 4   credit_reporting          162411 non-null  bool  \n",
      " 5   debt_collection           162411 non-null  bool  \n",
      " 6   mortgages_and_loans       162411 non-null  bool  \n",
      " 7   retail_banking            162411 non-null  bool  \n",
      " 8   Complaint_tokenized_text  162411 non-null  object\n",
      "dtypes: bool(5), int64(2), object(2)\n",
      "memory usage: 11.0+ MB\n"
     ]
    }
   ],
   "source": [
    "df.info()"
   ]
  },
  {
   "cell_type": "code",
   "execution_count": 40,
   "id": "c3553690",
   "metadata": {
    "execution": {
     "iopub.execute_input": "2024-03-02T20:02:29.346685Z",
     "iopub.status.busy": "2024-03-02T20:02:29.345921Z",
     "iopub.status.idle": "2024-03-02T20:02:29.350029Z",
     "shell.execute_reply": "2024-03-02T20:02:29.349198Z"
    },
    "id": "f8b7bf8d",
    "papermill": {
     "duration": 0.037351,
     "end_time": "2024-03-02T20:02:29.351850",
     "exception": false,
     "start_time": "2024-03-02T20:02:29.314499",
     "status": "completed"
    },
    "tags": []
   },
   "outputs": [],
   "source": [
    "X = df['narrative'].values"
   ]
  },
  {
   "cell_type": "code",
   "execution_count": 41,
   "id": "c6d32260",
   "metadata": {
    "execution": {
     "iopub.execute_input": "2024-03-02T20:02:29.415314Z",
     "iopub.status.busy": "2024-03-02T20:02:29.415048Z",
     "iopub.status.idle": "2024-03-02T20:02:29.420456Z",
     "shell.execute_reply": "2024-03-02T20:02:29.419671Z"
    },
    "executionInfo": {
     "elapsed": 323,
     "status": "ok",
     "timestamp": 1708967081886,
     "user": {
      "displayName": "Adham Elkomy",
      "userId": "05134505598862269623"
     },
     "user_tz": -120
    },
    "id": "f852d810",
    "outputId": "eb431e84-af35-4cef-856c-4f7e0f8cc633",
    "papermill": {
     "duration": 0.039629,
     "end_time": "2024-03-02T20:02:29.422397",
     "exception": false,
     "start_time": "2024-03-02T20:02:29.382768",
     "status": "completed"
    },
    "tags": []
   },
   "outputs": [
    {
     "data": {
      "text/plain": [
       "array(['purchase order day shipping amount receive product week sent followup email exact verbiage paid two day shipping received order company responded im sorry inform due unusually high order volume order shipped several week stock since early due high demand although continuing take order guaranteeing receive order place due time mask order exact shipping date right however guarantee ship soon soon delivers product u getting small shipment shipping first come first served basis appreciate patience fulfill order quickly recommend keeping order lose place line cancel distributor stock moment prefer cancel please note ask via email cancel accordance cancellation policy agreed checkout electronic inventory online requested order canceled refund issued canceled order sent verification order canceled refunded item particulate respirator refunded subtotal shipping tax total usd visa ending refund called disputed amount stated nothing needed submitted address issue recharged item removing called back dispute amount transaction rebillmerchandiserobert ca purchased thu posted wed purchased appears statement transaction rebill ca u followed see status case submitted documentation showing canceled order supposed submit refund called back speak manager case stated dispute ruled favor charge removed card capital one removed purchase bill purchase adjustmentmerchandiserobert j posted fri purchased appears statement purchase adjustment capital one recharges amount transaction rebillmerchandiserobert j purchased thu posted mon purchased appears statement transaction rebill called capital one requested recharge stated visa ruled case pretended remove purchase knew anything case manager ruling favor',\n",
       "       'forwarded message date tue subject please investigate comenity bank retailer card scam sent hello name scammed comenity bank credit card provider company childrens place new york forever victoria secret original credit comenity bank lower limit began charge overage fee along late fee began pay close attention card find limit also changed well incurring overage late fee reached company comenity bank stated would change credit limit original limit reached told summit payment account corrected comenity bank credit card impacted credit score plummeted negative status im currently paying price due corruption affected detrimental way debt due company charging overage fee well late fee even initial credit limit fluctuating tremendously company charge major fee account willing correct account nervous said attorney reason im reaching im employee company ruining credit plz help name contact info thank',\n",
       "       'forwarded message cc sent friday pdt subject final legal payment well fargo well fargo clearly wrong need look actually opened account see court hearing several different government agency reporting well including branch put open account numerous fraudulent charge debit card connected account clearly due fact well fargo maintain clearly required encryption card keep secure adding damage request small claim lawsuit time take away running business branch required come branch multiple time get fraudulent charge removed actually present strong case proper consumer protection agency well fargo immediately barred issuing account debit card insure agency card adequate prevent fraudulent use also requesting punitive treble damage sum hour take work handle lawsuit along legal cost filing lawsuit county small claim court today well fargo outrageous fraudulent conduct clearly warrant punitive damage also sharing every possible consumer protection agency find would think well fargo enough adverse publicity fraudulent conduct last year introduce small claim suit clearly establishing well fargo established business practice fraud customer ca judge really need reminded might want immediately run bonus payment legal department',\n",
       "       ..., 'name', 'name', 'name'], dtype=object)"
      ]
     },
     "execution_count": 41,
     "metadata": {},
     "output_type": "execute_result"
    }
   ],
   "source": [
    "X"
   ]
  },
  {
   "cell_type": "code",
   "execution_count": 42,
   "id": "d6a29755",
   "metadata": {
    "execution": {
     "iopub.execute_input": "2024-03-02T20:02:29.485559Z",
     "iopub.status.busy": "2024-03-02T20:02:29.485310Z",
     "iopub.status.idle": "2024-03-02T20:02:29.493851Z",
     "shell.execute_reply": "2024-03-02T20:02:29.493186Z"
    },
    "id": "48557819",
    "papermill": {
     "duration": 0.042114,
     "end_time": "2024-03-02T20:02:29.495606",
     "exception": false,
     "start_time": "2024-03-02T20:02:29.453492",
     "status": "completed"
    },
    "tags": []
   },
   "outputs": [],
   "source": [
    "y = np.argmax(df[['credit_card', 'credit_reporting', 'debt_collection', 'mortgages_and_loans', 'retail_banking']].values, axis=1)"
   ]
  },
  {
   "cell_type": "code",
   "execution_count": 43,
   "id": "bc8079a6",
   "metadata": {
    "execution": {
     "iopub.execute_input": "2024-03-02T20:02:29.559169Z",
     "iopub.status.busy": "2024-03-02T20:02:29.558928Z",
     "iopub.status.idle": "2024-03-02T20:02:29.564263Z",
     "shell.execute_reply": "2024-03-02T20:02:29.563368Z"
    },
    "executionInfo": {
     "elapsed": 283,
     "status": "ok",
     "timestamp": 1708967088012,
     "user": {
      "displayName": "Adham Elkomy",
      "userId": "05134505598862269623"
     },
     "user_tz": -120
    },
    "id": "85c25af5",
    "outputId": "d09f98bf-09f4-4918-ce08-f3c5afbe1a51",
    "papermill": {
     "duration": 0.039441,
     "end_time": "2024-03-02T20:02:29.566102",
     "exception": false,
     "start_time": "2024-03-02T20:02:29.526661",
     "status": "completed"
    },
    "tags": []
   },
   "outputs": [
    {
     "data": {
      "text/plain": [
       "(162411,)"
      ]
     },
     "execution_count": 43,
     "metadata": {},
     "output_type": "execute_result"
    }
   ],
   "source": [
    "y.shape"
   ]
  },
  {
   "cell_type": "code",
   "execution_count": 44,
   "id": "c8ec86ed",
   "metadata": {
    "execution": {
     "iopub.execute_input": "2024-03-02T20:02:29.629893Z",
     "iopub.status.busy": "2024-03-02T20:02:29.629609Z",
     "iopub.status.idle": "2024-03-02T20:02:29.650269Z",
     "shell.execute_reply": "2024-03-02T20:02:29.649540Z"
    },
    "id": "9e6e0987",
    "papermill": {
     "duration": 0.054722,
     "end_time": "2024-03-02T20:02:29.652297",
     "exception": false,
     "start_time": "2024-03-02T20:02:29.597575",
     "status": "completed"
    },
    "tags": []
   },
   "outputs": [],
   "source": [
    "from sklearn.model_selection import train_test_split\n",
    "\n",
    "X_train,X_test,y_train,y_test = train_test_split(X,y,test_size=0.2 , random_state=22)"
   ]
  },
  {
   "cell_type": "code",
   "execution_count": 45,
   "id": "7986a441",
   "metadata": {
    "execution": {
     "iopub.execute_input": "2024-03-02T20:02:29.717064Z",
     "iopub.status.busy": "2024-03-02T20:02:29.716819Z",
     "iopub.status.idle": "2024-03-02T20:02:29.722031Z",
     "shell.execute_reply": "2024-03-02T20:02:29.721174Z"
    },
    "executionInfo": {
     "elapsed": 305,
     "status": "ok",
     "timestamp": 1708967093537,
     "user": {
      "displayName": "Adham Elkomy",
      "userId": "05134505598862269623"
     },
     "user_tz": -120
    },
    "id": "c1b373b0",
    "outputId": "2c56a3eb-fd9a-4f1e-80b5-49f07ef66e68",
    "papermill": {
     "duration": 0.039809,
     "end_time": "2024-03-02T20:02:29.723981",
     "exception": false,
     "start_time": "2024-03-02T20:02:29.684172",
     "status": "completed"
    },
    "tags": []
   },
   "outputs": [
    {
     "data": {
      "text/plain": [
       "(129928,)"
      ]
     },
     "execution_count": 45,
     "metadata": {},
     "output_type": "execute_result"
    }
   ],
   "source": [
    "X_train.shape"
   ]
  },
  {
   "cell_type": "code",
   "execution_count": 46,
   "id": "c4d0689b",
   "metadata": {
    "execution": {
     "iopub.execute_input": "2024-03-02T20:02:29.788546Z",
     "iopub.status.busy": "2024-03-02T20:02:29.788261Z",
     "iopub.status.idle": "2024-03-02T20:02:29.793745Z",
     "shell.execute_reply": "2024-03-02T20:02:29.792840Z"
    },
    "executionInfo": {
     "elapsed": 289,
     "status": "ok",
     "timestamp": 1708967097244,
     "user": {
      "displayName": "Adham Elkomy",
      "userId": "05134505598862269623"
     },
     "user_tz": -120
    },
    "id": "aea03b9a",
    "outputId": "19cf3e6c-0960-46d8-900c-d73044ed28d5",
    "papermill": {
     "duration": 0.039711,
     "end_time": "2024-03-02T20:02:29.795820",
     "exception": false,
     "start_time": "2024-03-02T20:02:29.756109",
     "status": "completed"
    },
    "tags": []
   },
   "outputs": [
    {
     "data": {
      "text/plain": [
       "(129928,)"
      ]
     },
     "execution_count": 46,
     "metadata": {},
     "output_type": "execute_result"
    }
   ],
   "source": [
    "y_train.shape"
   ]
  },
  {
   "cell_type": "code",
   "execution_count": 47,
   "id": "507c9bb9",
   "metadata": {
    "execution": {
     "iopub.execute_input": "2024-03-02T20:02:29.863291Z",
     "iopub.status.busy": "2024-03-02T20:02:29.862505Z",
     "iopub.status.idle": "2024-03-02T20:02:29.868143Z",
     "shell.execute_reply": "2024-03-02T20:02:29.867353Z"
    },
    "executionInfo": {
     "elapsed": 2,
     "status": "ok",
     "timestamp": 1708967098477,
     "user": {
      "displayName": "Adham Elkomy",
      "userId": "05134505598862269623"
     },
     "user_tz": -120
    },
    "id": "8393ef36",
    "outputId": "a1c3822a-f5d6-4c58-b4d6-c79157fbf899",
    "papermill": {
     "duration": 0.041733,
     "end_time": "2024-03-02T20:02:29.870062",
     "exception": false,
     "start_time": "2024-03-02T20:02:29.828329",
     "status": "completed"
    },
    "tags": []
   },
   "outputs": [
    {
     "data": {
      "text/plain": [
       "(32483,)"
      ]
     },
     "execution_count": 47,
     "metadata": {},
     "output_type": "execute_result"
    }
   ],
   "source": [
    "X_test.shape"
   ]
  },
  {
   "cell_type": "code",
   "execution_count": 48,
   "id": "7747a23a",
   "metadata": {
    "execution": {
     "iopub.execute_input": "2024-03-02T20:02:29.937103Z",
     "iopub.status.busy": "2024-03-02T20:02:29.936775Z",
     "iopub.status.idle": "2024-03-02T20:02:29.942260Z",
     "shell.execute_reply": "2024-03-02T20:02:29.941391Z"
    },
    "executionInfo": {
     "elapsed": 354,
     "status": "ok",
     "timestamp": 1708967099264,
     "user": {
      "displayName": "Adham Elkomy",
      "userId": "05134505598862269623"
     },
     "user_tz": -120
    },
    "id": "75cb6741",
    "outputId": "428826bd-6330-4e40-d169-6ebcc8315fe8",
    "papermill": {
     "duration": 0.040316,
     "end_time": "2024-03-02T20:02:29.944190",
     "exception": false,
     "start_time": "2024-03-02T20:02:29.903874",
     "status": "completed"
    },
    "scrolled": true,
    "tags": []
   },
   "outputs": [
    {
     "data": {
      "text/plain": [
       "(32483,)"
      ]
     },
     "execution_count": 48,
     "metadata": {},
     "output_type": "execute_result"
    }
   ],
   "source": [
    "y_test.shape"
   ]
  },
  {
   "cell_type": "markdown",
   "id": "a73de62f",
   "metadata": {
    "id": "67a6cbce",
    "papermill": {
     "duration": 0.031262,
     "end_time": "2024-03-02T20:02:30.007176",
     "exception": false,
     "start_time": "2024-03-02T20:02:29.975914",
     "status": "completed"
    },
    "tags": []
   },
   "source": [
    "## Modeling\n",
    "\n",
    "**using Multinomial Naive Bayes because we have multi labels**"
   ]
  },
  {
   "cell_type": "markdown",
   "id": "891768eb",
   "metadata": {
    "id": "4b432b01",
    "papermill": {
     "duration": 0.031614,
     "end_time": "2024-03-02T20:02:30.070211",
     "exception": false,
     "start_time": "2024-03-02T20:02:30.038597",
     "status": "completed"
    },
    "tags": []
   },
   "source": [
    "### TF_IDF"
   ]
  },
  {
   "cell_type": "code",
   "execution_count": 49,
   "id": "079e4848",
   "metadata": {
    "execution": {
     "iopub.execute_input": "2024-03-02T20:02:30.134903Z",
     "iopub.status.busy": "2024-03-02T20:02:30.134578Z",
     "iopub.status.idle": "2024-03-02T20:02:43.803763Z",
     "shell.execute_reply": "2024-03-02T20:02:43.802887Z"
    },
    "executionInfo": {
     "elapsed": 3412,
     "status": "ok",
     "timestamp": 1708967108886,
     "user": {
      "displayName": "Adham Elkomy",
      "userId": "05134505598862269623"
     },
     "user_tz": -120
    },
    "id": "86378d45",
    "outputId": "159cd5ab-5bf8-4a69-d645-0ef615f74c93",
    "papermill": {
     "duration": 13.704316,
     "end_time": "2024-03-02T20:02:43.806099",
     "exception": false,
     "start_time": "2024-03-02T20:02:30.101783",
     "status": "completed"
    },
    "tags": []
   },
   "outputs": [
    {
     "name": "stdout",
     "output_type": "stream",
     "text": [
      "Accuracy: 0.81\n",
      "Classification Report:\n",
      "               precision    recall  f1-score   support\n",
      "\n",
      "           0       0.78      0.58      0.67      3075\n",
      "           1       0.80      0.96      0.87     18284\n",
      "           2       0.85      0.45      0.59      4569\n",
      "           3       0.80      0.79      0.79      3759\n",
      "           4       0.90      0.71      0.79      2796\n",
      "\n",
      "    accuracy                           0.81     32483\n",
      "   macro avg       0.83      0.70      0.74     32483\n",
      "weighted avg       0.82      0.81      0.80     32483\n",
      "\n"
     ]
    }
   ],
   "source": [
    "from sklearn.feature_extraction.text import TfidfVectorizer\n",
    "from sklearn.naive_bayes import MultinomialNB\n",
    "from sklearn.pipeline import make_pipeline\n",
    "from sklearn.metrics import accuracy_score, classification_report\n",
    "\n",
    "# Create a pipeline with a TF-IDF vectorizer and a Multinomial Naive Bayes classifier\n",
    "model1 = make_pipeline(TfidfVectorizer(), MultinomialNB())\n",
    "\n",
    "# Train the model\n",
    "model1.fit(X_train, y_train)\n",
    "\n",
    "# Predict on the test set\n",
    "y_pred = model1.predict(X_test)\n",
    "\n",
    "# Evaluate the model\n",
    "accuracy = accuracy_score(y_test, y_pred)\n",
    "print(f\"Accuracy: {accuracy:.2f}\")\n",
    "\n",
    "# Print classification report\n",
    "print(\"Classification Report:\\n\", classification_report(y_test, y_pred))"
   ]
  },
  {
   "cell_type": "markdown",
   "id": "10ccdbdf",
   "metadata": {
    "id": "ZYN3fybcYath",
    "papermill": {
     "duration": 0.032642,
     "end_time": "2024-03-02T20:02:43.871194",
     "exception": false,
     "start_time": "2024-03-02T20:02:43.838552",
     "status": "completed"
    },
    "tags": []
   },
   "source": [
    "## Cross-validation"
   ]
  },
  {
   "cell_type": "code",
   "execution_count": 50,
   "id": "dc6d97cd",
   "metadata": {
    "execution": {
     "iopub.execute_input": "2024-03-02T20:02:43.937062Z",
     "iopub.status.busy": "2024-03-02T20:02:43.936739Z",
     "iopub.status.idle": "2024-03-02T20:03:49.276933Z",
     "shell.execute_reply": "2024-03-02T20:03:49.275705Z"
    },
    "executionInfo": {
     "elapsed": 10400,
     "status": "ok",
     "timestamp": 1708967249616,
     "user": {
      "displayName": "Adham Elkomy",
      "userId": "05134505598862269623"
     },
     "user_tz": -120
    },
    "id": "BjbbNidwYZXz",
    "outputId": "ce12f8cc-124d-492a-bbaa-8be1026f2da8",
    "papermill": {
     "duration": 65.408469,
     "end_time": "2024-03-02T20:03:49.311677",
     "exception": false,
     "start_time": "2024-03-02T20:02:43.903208",
     "status": "completed"
    },
    "tags": []
   },
   "outputs": [
    {
     "name": "stdout",
     "output_type": "stream",
     "text": [
      "Cross-Validation Scores: [0.81008528 0.79628717 0.80503048 0.81857644 0.80629272]\n",
      "Mean Accuracy: 0.81\n"
     ]
    }
   ],
   "source": [
    "from sklearn.model_selection import cross_val_score\n",
    "\n",
    "cv_scores = cross_val_score(model1, X, y, cv=5, scoring='accuracy')\n",
    "print(f\"Cross-Validation Scores: {cv_scores}\")\n",
    "print(f\"Mean Accuracy: {np.mean(cv_scores):.2f}\")"
   ]
  },
  {
   "cell_type": "markdown",
   "id": "5c8146b7",
   "metadata": {
    "id": "39021c33",
    "papermill": {
     "duration": 0.031425,
     "end_time": "2024-03-02T20:03:49.375301",
     "exception": false,
     "start_time": "2024-03-02T20:03:49.343876",
     "status": "completed"
    },
    "tags": []
   },
   "source": [
    "## BOW\n",
    "\n"
   ]
  },
  {
   "cell_type": "code",
   "execution_count": 51,
   "id": "38f9da83",
   "metadata": {
    "execution": {
     "iopub.execute_input": "2024-03-02T20:03:49.440269Z",
     "iopub.status.busy": "2024-03-02T20:03:49.439976Z",
     "iopub.status.idle": "2024-03-02T20:04:02.337588Z",
     "shell.execute_reply": "2024-03-02T20:04:02.336525Z"
    },
    "executionInfo": {
     "elapsed": 4905,
     "status": "ok",
     "timestamp": 1708971542860,
     "user": {
      "displayName": "Adham Elkomy",
      "userId": "05134505598862269623"
     },
     "user_tz": -120
    },
    "id": "56616d54",
    "outputId": "39874b63-d81d-4f3b-8c3e-702e7e7142e2",
    "papermill": {
     "duration": 12.93272,
     "end_time": "2024-03-02T20:04:02.339944",
     "exception": false,
     "start_time": "2024-03-02T20:03:49.407224",
     "status": "completed"
    },
    "tags": []
   },
   "outputs": [
    {
     "name": "stdout",
     "output_type": "stream",
     "text": [
      "Accuracy: 0.82\n",
      "Classification Report:\n",
      "               precision    recall  f1-score   support\n",
      "\n",
      "           0       0.65      0.77      0.70      3075\n",
      "           1       0.92      0.84      0.88     18284\n",
      "           2       0.72      0.69      0.70      4569\n",
      "           3       0.71      0.88      0.79      3759\n",
      "           4       0.79      0.90      0.84      2796\n",
      "\n",
      "    accuracy                           0.82     32483\n",
      "   macro avg       0.76      0.82      0.78     32483\n",
      "weighted avg       0.83      0.82      0.82     32483\n",
      "\n"
     ]
    }
   ],
   "source": [
    "from sklearn.feature_extraction.text import CountVectorizer\n",
    "# Create a pipeline with a CountVectorizer and a Multinomial Naive Bayes classifier\n",
    "model2 = make_pipeline(CountVectorizer(), MultinomialNB())\n",
    "\n",
    "# Train the model\n",
    "model2.fit(X_train, y_train)\n",
    "\n",
    "# Predict on the test set\n",
    "y_pred = model2.predict(X_test)\n",
    "\n",
    "# Evaluate the model\n",
    "accuracy = accuracy_score(y_test, y_pred)\n",
    "print(f\"Accuracy: {accuracy:.2f}\")\n",
    "\n",
    "# Print classification report\n",
    "print(\"Classification Report:\\n\", classification_report(y_test, y_pred))"
   ]
  },
  {
   "cell_type": "markdown",
   "id": "ffa0d707",
   "metadata": {
    "id": "jD90u_hHZUwZ",
    "papermill": {
     "duration": 0.031647,
     "end_time": "2024-03-02T20:04:02.404664",
     "exception": false,
     "start_time": "2024-03-02T20:04:02.373017",
     "status": "completed"
    },
    "tags": []
   },
   "source": [
    "## Cross-validation"
   ]
  },
  {
   "cell_type": "code",
   "execution_count": 52,
   "id": "a5424314",
   "metadata": {
    "execution": {
     "iopub.execute_input": "2024-03-02T20:04:02.470086Z",
     "iopub.status.busy": "2024-03-02T20:04:02.469765Z",
     "iopub.status.idle": "2024-03-02T20:05:06.276918Z",
     "shell.execute_reply": "2024-03-02T20:05:06.275859Z"
    },
    "executionInfo": {
     "elapsed": 30475,
     "status": "ok",
     "timestamp": 1708971169364,
     "user": {
      "displayName": "Adham Elkomy",
      "userId": "05134505598862269623"
     },
     "user_tz": -120
    },
    "id": "wJoQNo1CZSm8",
    "outputId": "fa2068aa-ce8f-482d-d0b9-e5b8108b36b2",
    "papermill": {
     "duration": 63.874996,
     "end_time": "2024-03-02T20:05:06.311370",
     "exception": false,
     "start_time": "2024-03-02T20:04:02.436374",
     "status": "completed"
    },
    "tags": []
   },
   "outputs": [
    {
     "name": "stdout",
     "output_type": "stream",
     "text": [
      "Cross-Validation Scores: [0.82135271 0.8099255  0.80355274 0.80995628 0.82005418]\n",
      "Mean Accuracy: 0.81\n"
     ]
    }
   ],
   "source": [
    "from sklearn.model_selection import cross_val_score\n",
    "\n",
    "cv_scores = cross_val_score(model2, X, y, cv=5, scoring='accuracy')\n",
    "print(f\"Cross-Validation Scores: {cv_scores}\")\n",
    "print(f\"Mean Accuracy: {np.mean(cv_scores):.2f}\")"
   ]
  },
  {
   "cell_type": "code",
   "execution_count": 53,
   "id": "3aef95ad",
   "metadata": {
    "execution": {
     "iopub.execute_input": "2024-03-02T20:05:06.377897Z",
     "iopub.status.busy": "2024-03-02T20:05:06.377551Z",
     "iopub.status.idle": "2024-03-02T20:05:06.810001Z",
     "shell.execute_reply": "2024-03-02T20:05:06.809115Z"
    },
    "executionInfo": {
     "elapsed": 904,
     "status": "ok",
     "timestamp": 1708971174670,
     "user": {
      "displayName": "Adham Elkomy",
      "userId": "05134505598862269623"
     },
     "user_tz": -120
    },
    "id": "3ecedbc1",
    "outputId": "04a2daa1-8a59-4ee5-d0b9-e926aae2d3f5",
    "papermill": {
     "duration": 0.468266,
     "end_time": "2024-03-02T20:05:06.812495",
     "exception": false,
     "start_time": "2024-03-02T20:05:06.344229",
     "status": "completed"
    },
    "tags": []
   },
   "outputs": [
    {
     "data": {
      "image/png": "[encoded data removed]",
      "text/plain": [
       "<Figure size 800x600 with 2 Axes>"
      ]
     },
     "metadata": {},
     "output_type": "display_data"
    }
   ],
   "source": [
    "from sklearn.metrics import confusion_matrix\n",
    "import seaborn as sns\n",
    "import matplotlib.pyplot as plt\n",
    "\n",
    "# Create a confusion matrix\n",
    "conf_matrix = confusion_matrix(y_test, y_pred)\n",
    "\n",
    "# Plot the confusion matrix\n",
    "plt.figure(figsize=(8, 6))\n",
    "sns.heatmap(conf_matrix, annot=True, fmt='d', cmap='Blues', xticklabels=['Class 0', 'Class 1', 'Class 2', 'Class 3', 'Class 4'], yticklabels=['Class 0', 'Class 1', 'Class 2', 'Class 3', 'Class 4'])\n",
    "plt.xlabel('Predicted')\n",
    "plt.ylabel('True')\n",
    "plt.title('Confusion Matrix')\n",
    "plt.show()"
   ]
  },
  {
   "cell_type": "markdown",
   "id": "9be1c848",
   "metadata": {
    "id": "cd92803a",
    "papermill": {
     "duration": 0.033003,
     "end_time": "2024-03-02T20:05:06.878897",
     "exception": false,
     "start_time": "2024-03-02T20:05:06.845894",
     "status": "completed"
    },
    "tags": []
   },
   "source": [
    "## Fine-tune"
   ]
  },
  {
   "cell_type": "code",
   "execution_count": 54,
   "id": "155ba5cd",
   "metadata": {
    "execution": {
     "iopub.execute_input": "2024-03-02T20:05:06.946448Z",
     "iopub.status.busy": "2024-03-02T20:05:06.945543Z",
     "iopub.status.idle": "2024-03-02T20:18:05.819658Z",
     "shell.execute_reply": "2024-03-02T20:18:05.818505Z"
    },
    "executionInfo": {
     "elapsed": 256123,
     "status": "ok",
     "timestamp": 1708972157323,
     "user": {
      "displayName": "Adham Elkomy",
      "userId": "05134505598862269623"
     },
     "user_tz": -120
    },
    "id": "ca16bb1a",
    "outputId": "d10a02db-bf20-4b36-d621-1c02a1195284",
    "papermill": {
     "duration": 778.94469,
     "end_time": "2024-03-02T20:18:05.856341",
     "exception": false,
     "start_time": "2024-03-02T20:05:06.911651",
     "status": "completed"
    },
    "tags": []
   },
   "outputs": [
    {
     "name": "stdout",
     "output_type": "stream",
     "text": [
      "Best Model Accuracy: 0.88\n",
      "Best Hyperparameters: {'countvectorizer__ngram_range': (1, 3), 'multinomialnb__alpha': 0.12058449429580245}\n",
      "Classification Report:\n",
      "               precision    recall  f1-score   support\n",
      "\n",
      "           0       0.72      0.83      0.77      3075\n",
      "           1       0.96      0.91      0.93     18284\n",
      "           2       0.83      0.80      0.81      4569\n",
      "           3       0.81      0.90      0.85      3759\n",
      "           4       0.84      0.89      0.87      2796\n",
      "\n",
      "    accuracy                           0.88     32483\n",
      "   macro avg       0.83      0.87      0.85     32483\n",
      "weighted avg       0.89      0.88      0.89     32483\n",
      "\n"
     ]
    }
   ],
   "source": [
    "from sklearn.model_selection import RandomizedSearchCV\n",
    "from scipy.stats import uniform\n",
    "\n",
    "# Define the parameter distributions for RandomizedSearchCV\n",
    "param_dist = {\n",
    "    'countvectorizer__ngram_range': [(1, 1), (1, 2), (1, 3)],\n",
    "    'multinomialnb__alpha': uniform(0.1, 1.0),\n",
    "}\n",
    "\n",
    "model = make_pipeline(CountVectorizer(), MultinomialNB())\n",
    "\n",
    "randomized_search = RandomizedSearchCV(\n",
    "    model, param_distributions=param_dist, n_iter=10, cv=5, scoring='accuracy', n_jobs=-1, random_state=42\n",
    ")\n",
    "\n",
    "# Train the model with the best hyperparameters\n",
    "randomized_search.fit(X_train, y_train)\n",
    "\n",
    "# Get the best model from the randomized search\n",
    "best_model = randomized_search.best_estimator_\n",
    "\n",
    "# Predict on the test set\n",
    "y_pred_best = best_model.predict(X_test)\n",
    "\n",
    "# Evaluate the best model\n",
    "accuracy = accuracy_score(y_test, y_pred_best)\n",
    "print(f\"Best Model Accuracy: {accuracy:.2f}\")\n",
    "\n",
    "# Print the best hyperparameters\n",
    "print(\"Best Hyperparameters:\", randomized_search.best_params_)\n",
    "\n",
    "# Print classification report\n",
    "print(\"Classification Report:\\n\", classification_report(y_test, y_pred_best))\n"
   ]
  },
  {
   "cell_type": "markdown",
   "id": "40c0c5a3",
   "metadata": {
    "id": "PIUCvR_-glSA",
    "papermill": {
     "duration": 0.032541,
     "end_time": "2024-03-02T20:18:05.922150",
     "exception": false,
     "start_time": "2024-03-02T20:18:05.889609",
     "status": "completed"
    },
    "tags": []
   },
   "source": [
    "## Save our model"
   ]
  },
  {
   "cell_type": "code",
   "execution_count": 55,
   "id": "38af4df6",
   "metadata": {
    "execution": {
     "iopub.execute_input": "2024-03-02T20:18:05.989343Z",
     "iopub.status.busy": "2024-03-02T20:18:05.988785Z",
     "iopub.status.idle": "2024-03-02T20:19:15.595710Z",
     "shell.execute_reply": "2024-03-02T20:19:15.594767Z"
    },
    "executionInfo": {
     "elapsed": 10180,
     "status": "ok",
     "timestamp": 1708972172660,
     "user": {
      "displayName": "Adham Elkomy",
      "userId": "05134505598862269623"
     },
     "user_tz": -120
    },
    "id": "oTpQ7fyqgn0D",
    "outputId": "8059e60b-e63e-40cb-96ad-1ede488e5d92",
    "papermill": {
     "duration": 69.678167,
     "end_time": "2024-03-02T20:19:15.633132",
     "exception": false,
     "start_time": "2024-03-02T20:18:05.954965",
     "status": "completed"
    },
    "tags": []
   },
   "outputs": [
    {
     "data": {
      "text/plain": [
       "['best_model.pkl']"
      ]
     },
     "execution_count": 55,
     "metadata": {},
     "output_type": "execute_result"
    }
   ],
   "source": [
    "import joblib\n",
    "joblib.dump(best_model, 'best_model.pkl')"
   ]
  },
  {
   "cell_type": "markdown",
   "id": "899b21dc",
   "metadata": {
    "id": "luLKxd5Ed3-w",
    "papermill": {
     "duration": 0.033316,
     "end_time": "2024-03-02T20:19:15.700188",
     "exception": false,
     "start_time": "2024-03-02T20:19:15.666872",
     "status": "completed"
    },
    "tags": []
   },
   "source": [
    "## Routing Mechanism:"
   ]
  },
  {
   "cell_type": "code",
   "execution_count": 56,
   "id": "253d424c",
   "metadata": {
    "execution": {
     "iopub.execute_input": "2024-03-02T20:19:15.768334Z",
     "iopub.status.busy": "2024-03-02T20:19:15.767683Z",
     "iopub.status.idle": "2024-03-02T20:20:00.182911Z",
     "shell.execute_reply": "2024-03-02T20:20:00.181874Z"
    },
    "executionInfo": {
     "elapsed": 6532,
     "status": "ok",
     "timestamp": 1708972190311,
     "user": {
      "displayName": "Adham Elkomy",
      "userId": "05134505598862269623"
     },
     "user_tz": -120
    },
    "id": "baff6d60",
    "outputId": "6abcc73f-3bec-44df-93e0-7be49697d6b8",
    "papermill": {
     "duration": 44.485663,
     "end_time": "2024-03-02T20:20:00.218814",
     "exception": false,
     "start_time": "2024-03-02T20:19:15.733151",
     "status": "completed"
    },
    "tags": []
   },
   "outputs": [
    {
     "data": {
      "text/html": [
       "<div>\n",
       "<style scoped>\n",
       "    .dataframe tbody tr th:only-of-type {\n",
       "        vertical-align: middle;\n",
       "    }\n",
       "\n",
       "    .dataframe tbody tr th {\n",
       "        vertical-align: top;\n",
       "    }\n",
       "\n",
       "    .dataframe thead th {\n",
       "        text-align: right;\n",
       "    }\n",
       "</style>\n",
       "<table border=\"1\" class=\"dataframe\">\n",
       "  <thead>\n",
       "    <tr style=\"text-align: right;\">\n",
       "      <th></th>\n",
       "      <th>Complaint_No</th>\n",
       "      <th>narrative</th>\n",
       "      <th>narrative_length</th>\n",
       "      <th>credit_card</th>\n",
       "      <th>credit_reporting</th>\n",
       "      <th>debt_collection</th>\n",
       "      <th>mortgages_and_loans</th>\n",
       "      <th>retail_banking</th>\n",
       "      <th>Complaint_tokenized_text</th>\n",
       "      <th>predicted_category</th>\n",
       "    </tr>\n",
       "  </thead>\n",
       "  <tbody>\n",
       "    <tr>\n",
       "      <th>0</th>\n",
       "      <td>0</td>\n",
       "      <td>purchase order day shipping amount receive pro...</td>\n",
       "      <td>1705</td>\n",
       "      <td>True</td>\n",
       "      <td>False</td>\n",
       "      <td>False</td>\n",
       "      <td>False</td>\n",
       "      <td>False</td>\n",
       "      <td>[[purchase, order, day, shipping, amount, rece...</td>\n",
       "      <td>credit_card</td>\n",
       "    </tr>\n",
       "    <tr>\n",
       "      <th>1</th>\n",
       "      <td>1</td>\n",
       "      <td>forwarded message date tue subject please inve...</td>\n",
       "      <td>904</td>\n",
       "      <td>True</td>\n",
       "      <td>False</td>\n",
       "      <td>False</td>\n",
       "      <td>False</td>\n",
       "      <td>False</td>\n",
       "      <td>[[forwarded, message, date, tue, subject, plea...</td>\n",
       "      <td>credit_card</td>\n",
       "    </tr>\n",
       "    <tr>\n",
       "      <th>2</th>\n",
       "      <td>2</td>\n",
       "      <td>forwarded message cc sent friday pdt subject f...</td>\n",
       "      <td>1230</td>\n",
       "      <td>False</td>\n",
       "      <td>False</td>\n",
       "      <td>False</td>\n",
       "      <td>False</td>\n",
       "      <td>True</td>\n",
       "      <td>[[forwarded, message, cc, sent, friday, pdt, s...</td>\n",
       "      <td>retail_banking</td>\n",
       "    </tr>\n",
       "    <tr>\n",
       "      <th>3</th>\n",
       "      <td>3</td>\n",
       "      <td>payment history missing credit report speciali...</td>\n",
       "      <td>903</td>\n",
       "      <td>False</td>\n",
       "      <td>True</td>\n",
       "      <td>False</td>\n",
       "      <td>False</td>\n",
       "      <td>False</td>\n",
       "      <td>[[payment, history, missing, credit, report, s...</td>\n",
       "      <td>credit_reporting</td>\n",
       "    </tr>\n",
       "    <tr>\n",
       "      <th>4</th>\n",
       "      <td>4</td>\n",
       "      <td>payment history missing credit report made mis...</td>\n",
       "      <td>851</td>\n",
       "      <td>False</td>\n",
       "      <td>True</td>\n",
       "      <td>False</td>\n",
       "      <td>False</td>\n",
       "      <td>False</td>\n",
       "      <td>[[payment, history, missing, credit, report, m...</td>\n",
       "      <td>credit_reporting</td>\n",
       "    </tr>\n",
       "  </tbody>\n",
       "</table>\n",
       "</div>"
      ],
      "text/plain": [
       "   Complaint_No                                          narrative  \\\n",
       "0             0  purchase order day shipping amount receive pro...   \n",
       "1             1  forwarded message date tue subject please inve...   \n",
       "2             2  forwarded message cc sent friday pdt subject f...   \n",
       "3             3  payment history missing credit report speciali...   \n",
       "4             4  payment history missing credit report made mis...   \n",
       "\n",
       "   narrative_length  credit_card  credit_reporting  debt_collection  \\\n",
       "0              1705         True             False            False   \n",
       "1               904         True             False            False   \n",
       "2              1230        False             False            False   \n",
       "3               903        False              True            False   \n",
       "4               851        False              True            False   \n",
       "\n",
       "   mortgages_and_loans  retail_banking  \\\n",
       "0                False           False   \n",
       "1                False           False   \n",
       "2                False            True   \n",
       "3                False           False   \n",
       "4                False           False   \n",
       "\n",
       "                            Complaint_tokenized_text predicted_category  \n",
       "0  [[purchase, order, day, shipping, amount, rece...        credit_card  \n",
       "1  [[forwarded, message, date, tue, subject, plea...        credit_card  \n",
       "2  [[forwarded, message, cc, sent, friday, pdt, s...     retail_banking  \n",
       "3  [[payment, history, missing, credit, report, s...   credit_reporting  \n",
       "4  [[payment, history, missing, credit, report, m...   credit_reporting  "
      ]
     },
     "execution_count": 56,
     "metadata": {},
     "output_type": "execute_result"
    }
   ],
   "source": [
    "predicted_categories = best_model.predict(X)\n",
    "\n",
    "class_mapping = {0: 'credit_card', 1: 'credit_reporting', 2: 'debt_collection', 3: 'mortgages_and_loans', 4: 'retail_banking'}\n",
    "\n",
    "# Map numerical predictions to category names\n",
    "predicted_categories = [class_mapping[pred] for pred in predicted_categories]\n",
    "\n",
    "df['predicted_category'] = predicted_categories\n",
    "\n",
    "df.head()"
   ]
  },
  {
   "cell_type": "code",
   "execution_count": 57,
   "id": "81a8e246",
   "metadata": {
    "execution": {
     "iopub.execute_input": "2024-03-02T20:20:00.288996Z",
     "iopub.status.busy": "2024-03-02T20:20:00.288649Z",
     "iopub.status.idle": "2024-03-02T20:20:03.208960Z",
     "shell.execute_reply": "2024-03-02T20:20:03.207902Z"
    },
    "executionInfo": {
     "elapsed": 841,
     "status": "ok",
     "timestamp": 1708972202748,
     "user": {
      "displayName": "Adham Elkomy",
      "userId": "05134505598862269623"
     },
     "user_tz": -120
    },
    "id": "V5ET44vcevUq",
    "outputId": "9c91b67e-00c9-4537-916b-b56afbc09da1",
    "papermill": {
     "duration": 2.957666,
     "end_time": "2024-03-02T20:20:03.211171",
     "exception": false,
     "start_time": "2024-03-02T20:20:00.253505",
     "status": "completed"
    },
    "tags": []
   },
   "outputs": [
    {
     "data": {
      "text/html": [
       "<div>\n",
       "<style scoped>\n",
       "    .dataframe tbody tr th:only-of-type {\n",
       "        vertical-align: middle;\n",
       "    }\n",
       "\n",
       "    .dataframe tbody tr th {\n",
       "        vertical-align: top;\n",
       "    }\n",
       "\n",
       "    .dataframe thead th {\n",
       "        text-align: right;\n",
       "    }\n",
       "</style>\n",
       "<table border=\"1\" class=\"dataframe\">\n",
       "  <thead>\n",
       "    <tr style=\"text-align: right;\">\n",
       "      <th></th>\n",
       "      <th>Complaint_No</th>\n",
       "      <th>narrative</th>\n",
       "      <th>narrative_length</th>\n",
       "      <th>credit_card</th>\n",
       "      <th>credit_reporting</th>\n",
       "      <th>debt_collection</th>\n",
       "      <th>mortgages_and_loans</th>\n",
       "      <th>retail_banking</th>\n",
       "      <th>Complaint_tokenized_text</th>\n",
       "      <th>predicted_category</th>\n",
       "      <th>resolved_team</th>\n",
       "    </tr>\n",
       "  </thead>\n",
       "  <tbody>\n",
       "    <tr>\n",
       "      <th>0</th>\n",
       "      <td>0</td>\n",
       "      <td>purchase order day shipping amount receive pro...</td>\n",
       "      <td>1705</td>\n",
       "      <td>True</td>\n",
       "      <td>False</td>\n",
       "      <td>False</td>\n",
       "      <td>False</td>\n",
       "      <td>False</td>\n",
       "      <td>[[purchase, order, day, shipping, amount, rece...</td>\n",
       "      <td>credit_card</td>\n",
       "      <td>Credit Card Team</td>\n",
       "    </tr>\n",
       "    <tr>\n",
       "      <th>1</th>\n",
       "      <td>1</td>\n",
       "      <td>forwarded message date tue subject please inve...</td>\n",
       "      <td>904</td>\n",
       "      <td>True</td>\n",
       "      <td>False</td>\n",
       "      <td>False</td>\n",
       "      <td>False</td>\n",
       "      <td>False</td>\n",
       "      <td>[[forwarded, message, date, tue, subject, plea...</td>\n",
       "      <td>credit_card</td>\n",
       "      <td>Credit Card Team</td>\n",
       "    </tr>\n",
       "    <tr>\n",
       "      <th>2</th>\n",
       "      <td>2</td>\n",
       "      <td>forwarded message cc sent friday pdt subject f...</td>\n",
       "      <td>1230</td>\n",
       "      <td>False</td>\n",
       "      <td>False</td>\n",
       "      <td>False</td>\n",
       "      <td>False</td>\n",
       "      <td>True</td>\n",
       "      <td>[[forwarded, message, cc, sent, friday, pdt, s...</td>\n",
       "      <td>retail_banking</td>\n",
       "      <td>Retail Banking Team</td>\n",
       "    </tr>\n",
       "    <tr>\n",
       "      <th>3</th>\n",
       "      <td>3</td>\n",
       "      <td>payment history missing credit report speciali...</td>\n",
       "      <td>903</td>\n",
       "      <td>False</td>\n",
       "      <td>True</td>\n",
       "      <td>False</td>\n",
       "      <td>False</td>\n",
       "      <td>False</td>\n",
       "      <td>[[payment, history, missing, credit, report, s...</td>\n",
       "      <td>credit_reporting</td>\n",
       "      <td>Credit Reporting Team</td>\n",
       "    </tr>\n",
       "    <tr>\n",
       "      <th>4</th>\n",
       "      <td>4</td>\n",
       "      <td>payment history missing credit report made mis...</td>\n",
       "      <td>851</td>\n",
       "      <td>False</td>\n",
       "      <td>True</td>\n",
       "      <td>False</td>\n",
       "      <td>False</td>\n",
       "      <td>False</td>\n",
       "      <td>[[payment, history, missing, credit, report, m...</td>\n",
       "      <td>credit_reporting</td>\n",
       "      <td>Credit Reporting Team</td>\n",
       "    </tr>\n",
       "  </tbody>\n",
       "</table>\n",
       "</div>"
      ],
      "text/plain": [
       "   Complaint_No                                          narrative  \\\n",
       "0             0  purchase order day shipping amount receive pro...   \n",
       "1             1  forwarded message date tue subject please inve...   \n",
       "2             2  forwarded message cc sent friday pdt subject f...   \n",
       "3             3  payment history missing credit report speciali...   \n",
       "4             4  payment history missing credit report made mis...   \n",
       "\n",
       "   narrative_length  credit_card  credit_reporting  debt_collection  \\\n",
       "0              1705         True             False            False   \n",
       "1               904         True             False            False   \n",
       "2              1230        False             False            False   \n",
       "3               903        False              True            False   \n",
       "4               851        False              True            False   \n",
       "\n",
       "   mortgages_and_loans  retail_banking  \\\n",
       "0                False           False   \n",
       "1                False           False   \n",
       "2                False            True   \n",
       "3                False           False   \n",
       "4                False           False   \n",
       "\n",
       "                            Complaint_tokenized_text predicted_category  \\\n",
       "0  [[purchase, order, day, shipping, amount, rece...        credit_card   \n",
       "1  [[forwarded, message, date, tue, subject, plea...        credit_card   \n",
       "2  [[forwarded, message, cc, sent, friday, pdt, s...     retail_banking   \n",
       "3  [[payment, history, missing, credit, report, s...   credit_reporting   \n",
       "4  [[payment, history, missing, credit, report, m...   credit_reporting   \n",
       "\n",
       "           resolved_team  \n",
       "0       Credit Card Team  \n",
       "1       Credit Card Team  \n",
       "2    Retail Banking Team  \n",
       "3  Credit Reporting Team  \n",
       "4  Credit Reporting Team  "
      ]
     },
     "execution_count": 57,
     "metadata": {},
     "output_type": "execute_result"
    }
   ],
   "source": [
    "# Function to route complaints based on predicted category\n",
    "def route_complaint(complaint):\n",
    "    if complaint['predicted_category'] == 'credit_card':\n",
    "        return 'Credit Card Team'\n",
    "    elif complaint['predicted_category'] == 'credit_reporting':\n",
    "        return 'Credit Reporting Team'\n",
    "    elif complaint['predicted_category'] == 'debt_collection':\n",
    "        return 'Debt Collection Team'\n",
    "    elif complaint['predicted_category'] == 'mortgages_and_loans':\n",
    "        return 'Mortgages and Loans Team'\n",
    "    elif complaint['predicted_category'] == 'retail_banking':\n",
    "        return 'Retail Banking Team'\n",
    "    else:\n",
    "        return 'Other Team'\n",
    "\n",
    "# Apply routing function to create a new 'resolved_team' column\n",
    "df['resolved_team'] = df.apply(route_complaint, axis=1)\n",
    "\n",
    "df.head()"
   ]
  },
  {
   "cell_type": "markdown",
   "id": "44048874",
   "metadata": {
    "id": "GOuMMfHhfNtk",
    "papermill": {
     "duration": 0.035538,
     "end_time": "2024-03-02T20:20:03.283844",
     "exception": false,
     "start_time": "2024-03-02T20:20:03.248306",
     "status": "completed"
    },
    "tags": []
   },
   "source": [
    "## Final Dataframe"
   ]
  },
  {
   "cell_type": "code",
   "execution_count": 58,
   "id": "57932cdb",
   "metadata": {
    "execution": {
     "iopub.execute_input": "2024-03-02T20:20:03.353525Z",
     "iopub.status.busy": "2024-03-02T20:20:03.353158Z",
     "iopub.status.idle": "2024-03-02T20:20:03.372327Z",
     "shell.execute_reply": "2024-03-02T20:20:03.371452Z"
    },
    "executionInfo": {
     "elapsed": 448,
     "status": "ok",
     "timestamp": 1708973148358,
     "user": {
      "displayName": "Adham Elkomy",
      "userId": "05134505598862269623"
     },
     "user_tz": -120
    },
    "id": "015d1ab6",
    "outputId": "0fab4775-cd22-4e94-e150-3f74fce17364",
    "papermill": {
     "duration": 0.056556,
     "end_time": "2024-03-02T20:20:03.374566",
     "exception": false,
     "start_time": "2024-03-02T20:20:03.318010",
     "status": "completed"
    },
    "tags": []
   },
   "outputs": [
    {
     "data": {
      "text/html": [
       "<div>\n",
       "<style scoped>\n",
       "    .dataframe tbody tr th:only-of-type {\n",
       "        vertical-align: middle;\n",
       "    }\n",
       "\n",
       "    .dataframe tbody tr th {\n",
       "        vertical-align: top;\n",
       "    }\n",
       "\n",
       "    .dataframe thead th {\n",
       "        text-align: right;\n",
       "    }\n",
       "</style>\n",
       "<table border=\"1\" class=\"dataframe\">\n",
       "  <thead>\n",
       "    <tr style=\"text-align: right;\">\n",
       "      <th></th>\n",
       "      <th>Complaint_No</th>\n",
       "      <th>narrative</th>\n",
       "      <th>resolved_team</th>\n",
       "    </tr>\n",
       "  </thead>\n",
       "  <tbody>\n",
       "    <tr>\n",
       "      <th>0</th>\n",
       "      <td>0</td>\n",
       "      <td>purchase order day shipping amount receive pro...</td>\n",
       "      <td>Credit Card Team</td>\n",
       "    </tr>\n",
       "    <tr>\n",
       "      <th>1</th>\n",
       "      <td>1</td>\n",
       "      <td>forwarded message date tue subject please inve...</td>\n",
       "      <td>Credit Card Team</td>\n",
       "    </tr>\n",
       "    <tr>\n",
       "      <th>2</th>\n",
       "      <td>2</td>\n",
       "      <td>forwarded message cc sent friday pdt subject f...</td>\n",
       "      <td>Retail Banking Team</td>\n",
       "    </tr>\n",
       "    <tr>\n",
       "      <th>3</th>\n",
       "      <td>3</td>\n",
       "      <td>payment history missing credit report speciali...</td>\n",
       "      <td>Credit Reporting Team</td>\n",
       "    </tr>\n",
       "    <tr>\n",
       "      <th>4</th>\n",
       "      <td>4</td>\n",
       "      <td>payment history missing credit report made mis...</td>\n",
       "      <td>Credit Reporting Team</td>\n",
       "    </tr>\n",
       "    <tr>\n",
       "      <th>5</th>\n",
       "      <td>5</td>\n",
       "      <td>payment history missing credit report made mis...</td>\n",
       "      <td>Credit Reporting Team</td>\n",
       "    </tr>\n",
       "    <tr>\n",
       "      <th>6</th>\n",
       "      <td>6</td>\n",
       "      <td>va date complaint experian credit bureau invol...</td>\n",
       "      <td>Credit Reporting Team</td>\n",
       "    </tr>\n",
       "    <tr>\n",
       "      <th>7</th>\n",
       "      <td>7</td>\n",
       "      <td>account reported abbreviated name full name se...</td>\n",
       "      <td>Credit Reporting Team</td>\n",
       "    </tr>\n",
       "    <tr>\n",
       "      <th>8</th>\n",
       "      <td>8</td>\n",
       "      <td>account reported abbreviated name full name se...</td>\n",
       "      <td>Credit Reporting Team</td>\n",
       "    </tr>\n",
       "    <tr>\n",
       "      <th>9</th>\n",
       "      <td>9</td>\n",
       "      <td>usdoexxxx account reported abbreviated name fu...</td>\n",
       "      <td>Credit Reporting Team</td>\n",
       "    </tr>\n",
       "  </tbody>\n",
       "</table>\n",
       "</div>"
      ],
      "text/plain": [
       "   Complaint_No                                          narrative  \\\n",
       "0             0  purchase order day shipping amount receive pro...   \n",
       "1             1  forwarded message date tue subject please inve...   \n",
       "2             2  forwarded message cc sent friday pdt subject f...   \n",
       "3             3  payment history missing credit report speciali...   \n",
       "4             4  payment history missing credit report made mis...   \n",
       "5             5  payment history missing credit report made mis...   \n",
       "6             6  va date complaint experian credit bureau invol...   \n",
       "7             7  account reported abbreviated name full name se...   \n",
       "8             8  account reported abbreviated name full name se...   \n",
       "9             9  usdoexxxx account reported abbreviated name fu...   \n",
       "\n",
       "           resolved_team  \n",
       "0       Credit Card Team  \n",
       "1       Credit Card Team  \n",
       "2    Retail Banking Team  \n",
       "3  Credit Reporting Team  \n",
       "4  Credit Reporting Team  \n",
       "5  Credit Reporting Team  \n",
       "6  Credit Reporting Team  \n",
       "7  Credit Reporting Team  \n",
       "8  Credit Reporting Team  \n",
       "9  Credit Reporting Team  "
      ]
     },
     "execution_count": 58,
     "metadata": {},
     "output_type": "execute_result"
    }
   ],
   "source": [
    "final_df = df[['Complaint_No', 'narrative', 'resolved_team']]\n",
    "final_df.head(10)"
   ]
  },
  {
   "cell_type": "code",
   "execution_count": 59,
   "id": "1b290fc0",
   "metadata": {
    "execution": {
     "iopub.execute_input": "2024-03-02T20:20:03.447359Z",
     "iopub.status.busy": "2024-03-02T20:20:03.446517Z",
     "iopub.status.idle": "2024-03-02T20:20:07.758998Z",
     "shell.execute_reply": "2024-03-02T20:20:07.757832Z"
    },
    "id": "fxye2VWNvM3A",
    "papermill": {
     "duration": 4.351247,
     "end_time": "2024-03-02T20:20:07.761786",
     "exception": false,
     "start_time": "2024-03-02T20:20:03.410539",
     "status": "completed"
    },
    "tags": []
   },
   "outputs": [],
   "source": [
    "# Save the DataFrame to a CSV file\n",
    "final_df.to_csv('final_complaints_dataframe.csv', index=False)"
   ]
  },
  {
   "cell_type": "markdown",
   "id": "d2e0946d",
   "metadata": {
    "id": "wTTdzyQpoHpH",
    "papermill": {
     "duration": 0.035807,
     "end_time": "2024-03-02T20:20:07.832852",
     "exception": false,
     "start_time": "2024-03-02T20:20:07.797045",
     "status": "completed"
    },
    "tags": []
   },
   "source": [
    "### Error analysis"
   ]
  },
  {
   "cell_type": "code",
   "execution_count": 60,
   "id": "ec527270",
   "metadata": {
    "execution": {
     "iopub.execute_input": "2024-03-02T20:20:07.905524Z",
     "iopub.status.busy": "2024-03-02T20:20:07.905151Z",
     "iopub.status.idle": "2024-03-02T20:20:07.931757Z",
     "shell.execute_reply": "2024-03-02T20:20:07.930674Z"
    },
    "executionInfo": {
     "elapsed": 328,
     "status": "ok",
     "timestamp": 1708972239017,
     "user": {
      "displayName": "Adham Elkomy",
      "userId": "05134505598862269623"
     },
     "user_tz": -120
    },
    "id": "aodKmTIVmMkq",
    "outputId": "b0115f85-0047-423f-b2b3-b29f68942f3f",
    "papermill": {
     "duration": 0.066353,
     "end_time": "2024-03-02T20:20:07.933739",
     "exception": false,
     "start_time": "2024-03-02T20:20:07.867386",
     "status": "completed"
    },
    "tags": []
   },
   "outputs": [
    {
     "data": {
      "text/plain": [
       "3781"
      ]
     },
     "execution_count": 60,
     "metadata": {},
     "output_type": "execute_result"
    }
   ],
   "source": [
    "# Identify misclassified samples\n",
    "misclassified_samples = [(X_test[i], y_test[i], y_pred_best[i]) for i in range(len(y_test)) if y_test[i] != y_pred_best[i]]\n",
    "len(misclassified_samples)"
   ]
  },
  {
   "cell_type": "markdown",
   "id": "8fa023dd",
   "metadata": {
    "id": "sadTP2OKsQBc",
    "papermill": {
     "duration": 0.034878,
     "end_time": "2024-03-02T20:20:08.004340",
     "exception": false,
     "start_time": "2024-03-02T20:20:07.969462",
     "status": "completed"
    },
    "tags": []
   },
   "source": [
    "##Generating a Report"
   ]
  },
  {
   "cell_type": "code",
   "execution_count": 61,
   "id": "28cd1921",
   "metadata": {
    "execution": {
     "iopub.execute_input": "2024-03-02T20:20:08.077531Z",
     "iopub.status.busy": "2024-03-02T20:20:08.077164Z",
     "iopub.status.idle": "2024-03-02T20:20:08.086732Z",
     "shell.execute_reply": "2024-03-02T20:20:08.085508Z"
    },
    "executionInfo": {
     "elapsed": 309,
     "status": "ok",
     "timestamp": 1708974832643,
     "user": {
      "displayName": "Adham Elkomy",
      "userId": "05134505598862269623"
     },
     "user_tz": -120
    },
    "id": "i_WNfcZepyQi",
    "outputId": "6175d0e1-90ae-4b72-9147-0e2ce4bd97f2",
    "papermill": {
     "duration": 0.048374,
     "end_time": "2024-03-02T20:20:08.088746",
     "exception": false,
     "start_time": "2024-03-02T20:20:08.040372",
     "status": "completed"
    },
    "tags": []
   },
   "outputs": [
    {
     "name": "stdout",
     "output_type": "stream",
     "text": [
      "Report generated successfully: complaints_report_20240302_202008.txt\n"
     ]
    }
   ],
   "source": [
    "from datetime import datetime\n",
    "\n",
    "# Function to generate a report\n",
    "def generate_report(df, accuracy_before_tuning, accuracy_after_tuning, misclassified_samples_before, misclassified_samples_after):\n",
    "    timestamp = datetime.now().strftime(\"%Y%m%d_%H%M%S\")\n",
    "    report_filename = f\"complaints_report_{timestamp}.txt\"\n",
    "\n",
    "    with open(report_filename, 'w') as report_file:\n",
    "        report_file.write(\"Complaints Resolution Report\\n\")\n",
    "        report_file.write(f\"Generated on: {timestamp}\\n\\n\")\n",
    "\n",
    "        # Add findings, insights, and recommendations\n",
    "        report_file.write(\"Findings and Insights:\\n\")\n",
    "        report_file.write(f\" - Before hyperparameter tuning, the model accuracy was {accuracy_before_tuning:.2%}.\\n\")\n",
    "        report_file.write(f\" - After hyperparameter tuning, the model accuracy improved to {accuracy_after_tuning:.2%}.\\n\")\n",
    "        report_file.write(f\" - The error analysis showed {misclassified_samples_before} misclassified samples before tuning and {misclassified_samples_after} after tuning.\\n\")\n",
    "        report_file.write(\" - Recommendations: Use Bag of Words (BOW) with the best hyperparameters for optimal performance.\\n\\n\")\n",
    "\n",
    "    print(f\"Report generated successfully: {report_filename}\")\n",
    "accuracy_before_tuning = 0.79\n",
    "accuracy_after_tuning = 0.86\n",
    "misclassified_samples_before = 1034\n",
    "misclassified_samples_after = 712\n",
    "\n",
    "generate_report(df, accuracy_before_tuning, accuracy_after_tuning, misclassified_samples_before, misclassified_samples_after)"
   ]
  }
 ],
 "metadata": {
  "accelerator": "GPU",
  "colab": {
   "gpuType": "T4",
   "provenance": []
  },
  "kaggle": {
   "accelerator": "none",
   "dataSources": [
    {
     "datasetId": 4528124,
     "sourceId": 7746032,
     "sourceType": "datasetVersion"
    }
   ],
   "dockerImageVersionId": 30664,
   "isGpuEnabled": false,
   "isInternetEnabled": true,
   "language": "python",
   "sourceType": "notebook"
  },
  "kernelspec": {
   "display_name": "Python 3",
   "language": "python",
   "name": "python3"
  },
  "language_info": {
   "codemirror_mode": {
    "name": "ipython",
    "version": 3
   },
   "file_extension": ".py",
   "mimetype": "text/x-python",
   "name": "python",
   "nbconvert_exporter": "python",
   "pygments_lexer": "ipython3",
   "version": "3.10.13"
  },
  "papermill": {
   "default_parameters": {},
   "duration": 1307.820165,
   "end_time": "2024-03-02T20:20:10.946442",
   "environment_variables": {},
   "exception": null,
   "input_path": "__notebook__.ipynb",
   "output_path": "__notebook__.ipynb",
   "parameters": {},
   "start_time": "2024-03-02T19:58:23.126277",
   "version": "2.5.0"
  }
 },
 "nbformat": 4,
 "nbformat_minor": 5
}
